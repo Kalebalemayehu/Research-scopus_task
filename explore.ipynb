{
 "cells": [
  {
   "cell_type": "code",
   "execution_count": 24,
   "metadata": {},
   "outputs": [],
   "source": [
    "import pandas as pd\n",
    "import matplotlib.pyplot as plt\n",
    "import numpy as np"
   ]
  },
  {
   "cell_type": "code",
   "execution_count": 25,
   "metadata": {},
   "outputs": [],
   "source": [
    "file = pd.read_csv(\"scopus.csv\")"
   ]
  },
  {
   "cell_type": "code",
   "execution_count": 26,
   "metadata": {},
   "outputs": [
    {
     "name": "stdout",
     "output_type": "stream",
     "text": [
      "Index(['Authors', 'Author(s) ID', 'Title', 'Year', 'Source title', 'Volume',\n",
      "       'Issue', 'Art. No.', 'Page start', 'Page end', 'Page count', 'Cited by',\n",
      "       'DOI', 'Link', 'Affiliations', 'Authors with affiliations', 'Abstract',\n",
      "       'Author Keywords', 'Index Keywords', 'Correspondence Address',\n",
      "       'Editors', 'Publisher', 'ISSN', 'ISBN', 'CODEN', 'PubMed ID',\n",
      "       'Language of Original Document', 'Abbreviated Source Title',\n",
      "       'Document Type', 'Publication Stage', 'Open Access', 'Source', 'EID'],\n",
      "      dtype='object')\n",
      "(17, 33)\n"
     ]
    }
   ],
   "source": [
    "print(file.columns)\n",
    "print(file.shape)\n",
    "\n",
    "# Which columns are the important ones?"
   ]
  },
  {
   "cell_type": "code",
   "execution_count": 27,
   "metadata": {},
   "outputs": [
    {
     "data": {
      "text/plain": [
       "0     Artificial intelligence; Managers; Risk manage...\n",
       "1     Intelligent systems; Managers; Regression anal...\n",
       "2     Agriculture; Artificial intelligence; Big data...\n",
       "3     information and communication technology; logi...\n",
       "4                                                   NaN\n",
       "5     Supply chain management; AI techniques; Black ...\n",
       "6                                                   NaN\n",
       "7     Decision making; Decision trees; Forestry; Int...\n",
       "8     artificial intelligence; consumption behavior;...\n",
       "9     Artificial intelligence; Decision trees; Deter...\n",
       "10    Artificial intelligence; Formal verification; ...\n",
       "11    Big data; Data mining; Risk assessment; Risk m...\n",
       "12    Artificial intelligence; Industrial management...\n",
       "13    Agent-based decision support systems; Automate...\n",
       "14    Analysis results; Analytical Hierarchy Process...\n",
       "15                                                  NaN\n",
       "16    Aggregates; Artificial intelligence; Chains; C...\n",
       "Name: Index Keywords, dtype: object"
      ]
     },
     "execution_count": 27,
     "metadata": {},
     "output_type": "execute_result"
    }
   ],
   "source": [
    "file[\"Index Keywords\"]"
   ]
  },
  {
   "cell_type": "code",
   "execution_count": 28,
   "metadata": {},
   "outputs": [
    {
     "data": {
      "text/plain": [
       "0     Artificial Intelligence (AI); Big data; Explai...\n",
       "1     Counterfactual explanation; Recommender system...\n",
       "2     big data; causal graph; demand and supply anal...\n",
       "3     Food supply chain; Food sustainability; Food w...\n",
       "4     Explainable AI; Human-computer interface; Mach...\n",
       "5     Artificial intelligence; Explainable AI; Integ...\n",
       "6     Bayesian Network; business partner recommendat...\n",
       "7     explainable AI; extreme gradient boosting (XGB...\n",
       "8     AI-push; Consumers' preference for products; E...\n",
       "9     Decision tree; Explainable artificial intellig...\n",
       "10    Basic supply chain patterns; Event-B; Formal V...\n",
       "11    Association rule mining; Supply chain manageme...\n",
       "12    After-sales; Case study; Decision support; Fie...\n",
       "13    Data mining; Knowledge extraction and manageme...\n",
       "14    Analytical hierarchy process; Gray relational ...\n",
       "15    Control systems; Intelligent agents; Process m...\n",
       "16                                                  NaN\n",
       "Name: Author Keywords, dtype: object"
      ]
     },
     "execution_count": 28,
     "metadata": {},
     "output_type": "execute_result"
    }
   ],
   "source": [
    "file[\"Author Keywords\"]"
   ]
  },
  {
   "cell_type": "code",
   "execution_count": 29,
   "metadata": {},
   "outputs": [
    {
     "data": {
      "text/plain": [
       "'Intelligent systems; Managers; Regression analysis; Supply chain management; Counterfactual explanation; Counterfactuals; Intelligence models; Logistic Regression modeling; Optimization problems; Research studies; Resiliency; Risk manager; Risk mitigation strategy; Supply chain network; Recommender systems'"
      ]
     },
     "execution_count": 29,
     "metadata": {},
     "output_type": "execute_result"
    }
   ],
   "source": [
    "file[\"Index Keywords\"][1]"
   ]
  },
  {
   "cell_type": "markdown",
   "metadata": {},
   "source": [
    "## Pre-process data"
   ]
  },
  {
   "cell_type": "code",
   "execution_count": 30,
   "metadata": {},
   "outputs": [
    {
     "name": "stdout",
     "output_type": "stream",
     "text": [
      "['Article' 'Conference Paper' 'Review']\n"
     ]
    }
   ],
   "source": [
    "print(file[\"Document Type\"].unique())"
   ]
  },
  {
   "cell_type": "code",
   "execution_count": 31,
   "metadata": {},
   "outputs": [
    {
     "data": {
      "text/html": [
       "<div>\n",
       "<style scoped>\n",
       "    .dataframe tbody tr th:only-of-type {\n",
       "        vertical-align: middle;\n",
       "    }\n",
       "\n",
       "    .dataframe tbody tr th {\n",
       "        vertical-align: top;\n",
       "    }\n",
       "\n",
       "    .dataframe thead th {\n",
       "        text-align: right;\n",
       "    }\n",
       "</style>\n",
       "<table border=\"1\" class=\"dataframe\">\n",
       "  <thead>\n",
       "    <tr style=\"text-align: right;\">\n",
       "      <th></th>\n",
       "      <th>Authors</th>\n",
       "      <th>Author(s) ID</th>\n",
       "      <th>Title</th>\n",
       "      <th>Year</th>\n",
       "      <th>Source title</th>\n",
       "      <th>Volume</th>\n",
       "      <th>Issue</th>\n",
       "      <th>Art. No.</th>\n",
       "      <th>Page start</th>\n",
       "      <th>Page end</th>\n",
       "      <th>...</th>\n",
       "      <th>PubMed ID</th>\n",
       "      <th>Language of Original Document</th>\n",
       "      <th>Abbreviated Source Title</th>\n",
       "      <th>Publication Stage</th>\n",
       "      <th>Open Access</th>\n",
       "      <th>Source</th>\n",
       "      <th>EID</th>\n",
       "      <th>Document Type_Article</th>\n",
       "      <th>Document Type_Conference Paper</th>\n",
       "      <th>Document Type_Review</th>\n",
       "    </tr>\n",
       "  </thead>\n",
       "  <tbody>\n",
       "    <tr>\n",
       "      <th>0</th>\n",
       "      <td>Nimmy S.F., Hussain O.K., Chakrabortty R.K., H...</td>\n",
       "      <td>55220096200;8618708200;55538597700;7101795409;...</td>\n",
       "      <td>Explainability in supply chain operational ris...</td>\n",
       "      <td>2022</td>\n",
       "      <td>Knowledge-Based Systems</td>\n",
       "      <td>235</td>\n",
       "      <td>NaN</td>\n",
       "      <td>107587.0</td>\n",
       "      <td>NaN</td>\n",
       "      <td>NaN</td>\n",
       "      <td>...</td>\n",
       "      <td>NaN</td>\n",
       "      <td>English</td>\n",
       "      <td>Knowl Based Syst</td>\n",
       "      <td>Final</td>\n",
       "      <td>NaN</td>\n",
       "      <td>Scopus</td>\n",
       "      <td>2-s2.0-85118479625</td>\n",
       "      <td>1</td>\n",
       "      <td>0</td>\n",
       "      <td>0</td>\n",
       "    </tr>\n",
       "    <tr>\n",
       "      <th>1</th>\n",
       "      <td>Ordibazar A.H., Hussain O., Saberi M.</td>\n",
       "      <td>57204813154;8618708200;24723128200;</td>\n",
       "      <td>A Recommender System and Risk Mitigation Strat...</td>\n",
       "      <td>2022</td>\n",
       "      <td>Lecture Notes in Computer Science (including s...</td>\n",
       "      <td>13236 LNCS</td>\n",
       "      <td>NaN</td>\n",
       "      <td>NaN</td>\n",
       "      <td>103.0</td>\n",
       "      <td>116.0</td>\n",
       "      <td>...</td>\n",
       "      <td>NaN</td>\n",
       "      <td>English</td>\n",
       "      <td>Lect. Notes Comput. Sci.</td>\n",
       "      <td>Final</td>\n",
       "      <td>NaN</td>\n",
       "      <td>Scopus</td>\n",
       "      <td>2-s2.0-85137037314</td>\n",
       "      <td>0</td>\n",
       "      <td>1</td>\n",
       "      <td>0</td>\n",
       "    </tr>\n",
       "  </tbody>\n",
       "</table>\n",
       "<p>2 rows × 35 columns</p>\n",
       "</div>"
      ],
      "text/plain": [
       "                                             Authors  \\\n",
       "0  Nimmy S.F., Hussain O.K., Chakrabortty R.K., H...   \n",
       "1              Ordibazar A.H., Hussain O., Saberi M.   \n",
       "\n",
       "                                        Author(s) ID  \\\n",
       "0  55220096200;8618708200;55538597700;7101795409;...   \n",
       "1                57204813154;8618708200;24723128200;   \n",
       "\n",
       "                                               Title  Year  \\\n",
       "0  Explainability in supply chain operational ris...  2022   \n",
       "1  A Recommender System and Risk Mitigation Strat...  2022   \n",
       "\n",
       "                                        Source title      Volume  Issue  \\\n",
       "0                            Knowledge-Based Systems         235    NaN   \n",
       "1  Lecture Notes in Computer Science (including s...  13236 LNCS    NaN   \n",
       "\n",
       "   Art. No.  Page start  Page end  ...  PubMed ID  \\\n",
       "0  107587.0         NaN       NaN  ...        NaN   \n",
       "1       NaN       103.0     116.0  ...        NaN   \n",
       "\n",
       "   Language of Original Document  Abbreviated Source Title Publication Stage  \\\n",
       "0                        English          Knowl Based Syst             Final   \n",
       "1                        English  Lect. Notes Comput. Sci.             Final   \n",
       "\n",
       "  Open Access  Source                 EID Document Type_Article  \\\n",
       "0         NaN  Scopus  2-s2.0-85118479625                     1   \n",
       "1         NaN  Scopus  2-s2.0-85137037314                     0   \n",
       "\n",
       "  Document Type_Conference Paper Document Type_Review  \n",
       "0                              0                    0  \n",
       "1                              1                    0  \n",
       "\n",
       "[2 rows x 35 columns]"
      ]
     },
     "execution_count": 31,
     "metadata": {},
     "output_type": "execute_result"
    }
   ],
   "source": [
    "categorical_cols = [\"Document Type\"]\n",
    "def encode_and_bind(original_dataframe, feature_to_encode):\n",
    "    # Convert categorical variable into dummy/indicator variables.\n",
    "    dummies = pd.get_dummies(original_dataframe[[feature_to_encode]], dummy_na=False)\n",
    "    # concatenate the result to the original dataframe\n",
    "    res = pd.concat([original_dataframe, dummies], axis=1)\n",
    "    return(res)\n",
    "\n",
    "# one hot encode columns\n",
    "for col in categorical_cols:\n",
    "    df = encode_and_bind(file, col)\n",
    "\n",
    "# delete the origin columns\n",
    "for col in categorical_cols:\n",
    "    del df[col]\n",
    "\n",
    "df.head(2)"
   ]
  },
  {
   "cell_type": "code",
   "execution_count": 32,
   "metadata": {},
   "outputs": [
    {
     "name": "stdout",
     "output_type": "stream",
     "text": [
      "7\n",
      "9\n",
      "1\n"
     ]
    }
   ],
   "source": [
    "article = df[df[\"Document Type_Article\"] == 1].shape[0]\n",
    "conference = df[df[\"Document Type_Conference Paper\"] == 1].shape[0]\n",
    "review = df[df[\"Document Type_Review\"] == 1].shape[0]\n",
    "\n",
    "print(article)\n",
    "print(conference)\n",
    "print(review)"
   ]
  },
  {
   "cell_type": "code",
   "execution_count": 33,
   "metadata": {},
   "outputs": [
    {
     "data": {
      "image/png": "[encoded data removed]",
      "text/plain": [
       "<Figure size 432x288 with 1 Axes>"
      ]
     },
     "metadata": {},
     "output_type": "display_data"
    }
   ],
   "source": [
    "values = [article, conference, review]\n",
    "labels = \"Article\", \"Conference Paper\", \"Review\"\n",
    "explode = (0, 0, 0)\n",
    "\n",
    "fig1, ax1 = plt.subplots()\n",
    "fig1.patch.set_facecolor('white')\n",
    "ax1.pie(values, explode=explode,labels=labels, autopct='%1.1f%%',\n",
    "        shadow=True, startangle=90)\n",
    "ax1.axis('equal')\n",
    "\n",
    "plt.show()"
   ]
  },
  {
   "cell_type": "code",
   "execution_count": 34,
   "metadata": {},
   "outputs": [
    {
     "data": {
      "text/plain": [
       "array(['Knowl Based Syst', 'Lect. Notes Comput. Sci.', 'IEEE Access',\n",
       "       'Sustainability', 'Interfaces',\n",
       "       'IFIP Advances in Information and Communication Technology',\n",
       "       'Supply Chain Forum', 'IEEE Symp. Ser. Comput. Intell., SSCI',\n",
       "       'Proc. - IEEE/ACIS Int. Conf. Softw. Eng., Artif. Intell., Netw. Parallel/Distrib. Comput., SNPD',\n",
       "       'Proc. - IEEE Int. Conf. Big Data, Big Data',\n",
       "       'ACM Int. Conf. Proc. Ser.', 'J Test Eval', 'J. Adv. Manag. Res.',\n",
       "       'Proc. Annu. Hawaii Int. Conf. Syst. Sci., HICSS'], dtype=object)"
      ]
     },
     "execution_count": 34,
     "metadata": {},
     "output_type": "execute_result"
    }
   ],
   "source": [
    "df[\"Abbreviated Source Title\"].unique()"
   ]
  },
  {
   "cell_type": "code",
   "execution_count": 35,
   "metadata": {},
   "outputs": [],
   "source": [
    "indexed_kw = []\n",
    "for index, row in df.iterrows():\n",
    "    #print(row[\"Index Keywords\"])\n",
    "    try:\n",
    "        x = row[\"Index Keywords\"].split(\"; \")\n",
    "        indexed_kw.append(x)\n",
    "    except AttributeError:\n",
    "        pass\n",
    "\n",
    "indexed_kw = [j for i in indexed_kw for j in i]\n"
   ]
  },
  {
   "cell_type": "code",
   "execution_count": 51,
   "metadata": {},
   "outputs": [],
   "source": [
    "df_kw = pd.DataFrame(indexed_kw, columns=[\"Indexed Keywords\"])\n",
    "pivot_kw = df_kw.pivot_table(columns=['Indexed Keywords'], aggfunc=\"size\")"
   ]
  },
  {
   "cell_type": "code",
   "execution_count": 52,
   "metadata": {},
   "outputs": [
    {
     "data": {
      "text/plain": [
       "<AxesSubplot:xlabel='Indexed Keywords'>"
      ]
     },
     "execution_count": 52,
     "metadata": {},
     "output_type": "execute_result"
    },
    {
     "data": {
      "image/png": "[encoded data removed]",
      "text/plain": [
       "<Figure size 432x288 with 1 Axes>"
      ]
     },
     "metadata": {
      "needs_background": "light"
     },
     "output_type": "display_data"
    }
   ],
   "source": [
    "pivot = pivot_kw[pivot_kw > 1]\n",
    "pivot.plot.bar()"
   ]
  },
  {
   "cell_type": "code",
   "execution_count": 53,
   "metadata": {},
   "outputs": [],
   "source": [
    "author_kw = []\n",
    "for index, row in df.iterrows():\n",
    "    try:\n",
    "        x = row[\"Author Keywords\"].split(\"; \")\n",
    "        author_kw.append(x)\n",
    "    except AttributeError:\n",
    "        pass\n",
    "\n",
    "author_kw = [j for i in author_kw for j in i]"
   ]
  },
  {
   "cell_type": "code",
   "execution_count": 56,
   "metadata": {},
   "outputs": [],
   "source": [
    "df_kw_au = pd.DataFrame(author_kw, columns=[\"Author Keywords\"])\n",
    "pivot_kw_au = df_kw_au.pivot_table(columns=['Author Keywords'], aggfunc=\"size\")"
   ]
  },
  {
   "cell_type": "code",
   "execution_count": 57,
   "metadata": {},
   "outputs": [
    {
     "data": {
      "text/plain": [
       "<AxesSubplot:xlabel='Author Keywords'>"
      ]
     },
     "execution_count": 57,
     "metadata": {},
     "output_type": "execute_result"
    },
    {
     "data": {
      "image/png": "[encoded data removed]",
      "text/plain": [
       "<Figure size 432x288 with 1 Axes>"
      ]
     },
     "metadata": {
      "needs_background": "light"
     },
     "output_type": "display_data"
    }
   ],
   "source": [
    "pivot = pivot_kw_au[pivot_kw_au > 1]\n",
    "pivot.plot.bar()"
   ]
  }
 ],
 "metadata": {
  "interpreter": {
   "hash": "0a30e37873c21626933c3629ab168802ac8ae1ec678442c9f027947c9b171c46"
  },
  "kernelspec": {
   "display_name": "Python 3.8.8 ('base')",
   "language": "python",
   "name": "python3"
  },
  "language_info": {
   "codemirror_mode": {
    "name": "ipython",
    "version": 3
   },
   "file_extension": ".py",
   "mimetype": "text/x-python",
   "name": "python",
   "nbconvert_exporter": "python",
   "pygments_lexer": "ipython3",
   "version": "3.8.8"
  },
  "orig_nbformat": 4
 },
 "nbformat": 4,
 "nbformat_minor": 2
}
