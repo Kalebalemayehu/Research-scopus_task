{
 "cells": [
  {
   "cell_type": "code",
   "execution_count": 5,
   "id": "200d70e9",
   "metadata": {},
   "outputs": [],
   "source": [
    "import requests\n",
    "import re\n",
    "import pandas as pd\n",
    "import nltk\n",
    "import numpy as np\n",
    "from nltk.corpus import wordnet\n",
    "import matplotlib.pyplot as plt"
   ]
  },
  {
   "cell_type": "markdown",
   "id": "4c4b9578",
   "metadata": {},
   "source": [
    "## Synonyms with Thesaurus API"
   ]
  },
  {
   "cell_type": "code",
   "execution_count": 6,
   "id": "1e080120",
   "metadata": {},
   "outputs": [],
   "source": [
    "keys = [\"Production\", \"Retail\", \"Processing\", \"Distribution\"]\n",
    "#no_keys = [ \"consumer discretionary\", \"consumer staples\", \"communication services\"]"
   ]
  },
  {
   "cell_type": "code",
   "execution_count": 7,
   "id": "030118c9",
   "metadata": {},
   "outputs": [],
   "source": [
    "def get_synonyms_api(key_word):\n",
    "    url = \"https://www.dictionaryapi.com/api/v3/references/thesaurus/json/\"\n",
    "    key= \"?key=bc125025-b3b8-4b13-b8e8-c1ef37845bad\"\n",
    "    syn_json = requests.get(url+key_word+key).json()\n",
    "    syn_list = syn_json[0]['meta']['syns']\n",
    "    if len(syn_list) > 1:\n",
    "        master = sum(syn_list, [])\n",
    "    elif len(syn_list) == 1:\n",
    "        master = syn_list[0]\n",
    "    master.append(key_word)\n",
    "    return master"
   ]
  },
  {
   "cell_type": "code",
   "execution_count": 8,
   "id": "33e18e8f",
   "metadata": {},
   "outputs": [
    {
     "data": {
      "text/plain": [
       "['affair',\n",
       " 'fruit',\n",
       " 'handiwork',\n",
       " 'labor',\n",
       " 'output',\n",
       " 'produce',\n",
       " 'product',\n",
       " 'thing',\n",
       " 'work',\n",
       " 'yield',\n",
       " 'Production']"
      ]
     },
     "execution_count": 8,
     "metadata": {},
     "output_type": "execute_result"
    }
   ],
   "source": [
    "prod = get_synonyms_api(keys[0])\n",
    "retail = get_synonyms_api(keys[1])\n",
    "process = get_synonyms_api(keys[2])\n",
    "distri =  get_synonyms_api(keys[3])\n",
    "prod"
   ]
  },
  {
   "cell_type": "markdown",
   "id": "51072688",
   "metadata": {},
   "source": [
    "## Synonyms with NLP"
   ]
  },
  {
   "cell_type": "code",
   "execution_count": 9,
   "id": "a341a133",
   "metadata": {},
   "outputs": [],
   "source": [
    "def get_synonyms(phr):\n",
    "    phr_syn_lst = [phr]\n",
    "    phr_syn_lst = [i.name().lower() for syn in wordnet.synsets(phr) for i in syn.lemmas() ]\n",
    "\n",
    "    return (list(set(phr_syn_lst)))    "
   ]
  },
  {
   "cell_type": "code",
   "execution_count": 10,
   "id": "b76cea5e",
   "metadata": {},
   "outputs": [
    {
     "data": {
      "text/plain": [
       "['output', 'production', 'yield', 'product']"
      ]
     },
     "execution_count": 10,
     "metadata": {},
     "output_type": "execute_result"
    }
   ],
   "source": [
    "get_synonyms(\"production\")"
   ]
  },
  {
   "cell_type": "code",
   "execution_count": 11,
   "id": "de9b2296",
   "metadata": {},
   "outputs": [
    {
     "data": {
      "text/plain": [
       "['retail']"
      ]
     },
     "execution_count": 11,
     "metadata": {},
     "output_type": "execute_result"
    }
   ],
   "source": [
    "get_synonyms(\"retail\")"
   ]
  },
  {
   "cell_type": "markdown",
   "id": "69493901",
   "metadata": {},
   "source": [
    "## Algorithm"
   ]
  },
  {
   "cell_type": "code",
   "execution_count": 12,
   "id": "0fbc754b",
   "metadata": {},
   "outputs": [
    {
     "data": {
      "text/plain": [
       "Index(['Authors', 'Title', 'DOI', 'Link', 'Abstract', 'Author Keywords',\n",
       "       'Index Keywords'],\n",
       "      dtype='object')"
      ]
     },
     "execution_count": 12,
     "metadata": {},
     "output_type": "execute_result"
    }
   ],
   "source": [
    "df = pd.read_csv(\"scopus (4).csv\")#, on_bad_lines='skip')\n",
    "df.columns"
   ]
  },
  {
   "cell_type": "code",
   "execution_count": 13,
   "id": "8e38babf",
   "metadata": {},
   "outputs": [
    {
     "name": "stdout",
     "output_type": "stream",
     "text": [
      "<class 'pandas.core.frame.DataFrame'>\n",
      "RangeIndex: 2000 entries, 0 to 1999\n",
      "Data columns (total 7 columns):\n",
      " #   Column           Non-Null Count  Dtype \n",
      "---  ------           --------------  ----- \n",
      " 0   Authors          2000 non-null   object\n",
      " 1   Title            2000 non-null   object\n",
      " 2   DOI              1741 non-null   object\n",
      " 3   Link             2000 non-null   object\n",
      " 4   Abstract         2000 non-null   object\n",
      " 5   Author Keywords  1544 non-null   object\n",
      " 6   Index Keywords   1699 non-null   object\n",
      "dtypes: object(7)\n",
      "memory usage: 109.5+ KB\n"
     ]
    }
   ],
   "source": [
    "df.info()"
   ]
  },
  {
   "cell_type": "code",
   "execution_count": 14,
   "id": "beb165a8",
   "metadata": {},
   "outputs": [],
   "source": [
    "df = df.fillna(\"blank\")"
   ]
  },
  {
   "cell_type": "code",
   "execution_count": 15,
   "id": "70686f70",
   "metadata": {},
   "outputs": [
    {
     "data": {
      "text/html": [
       "<div>\n",
       "<style scoped>\n",
       "    .dataframe tbody tr th:only-of-type {\n",
       "        vertical-align: middle;\n",
       "    }\n",
       "\n",
       "    .dataframe tbody tr th {\n",
       "        vertical-align: top;\n",
       "    }\n",
       "\n",
       "    .dataframe thead th {\n",
       "        text-align: right;\n",
       "    }\n",
       "</style>\n",
       "<table border=\"1\" class=\"dataframe\">\n",
       "  <thead>\n",
       "    <tr style=\"text-align: right;\">\n",
       "      <th></th>\n",
       "      <th>Authors</th>\n",
       "      <th>Title</th>\n",
       "      <th>DOI</th>\n",
       "      <th>Link</th>\n",
       "      <th>Abstract</th>\n",
       "      <th>Author Keywords</th>\n",
       "      <th>Index Keywords</th>\n",
       "    </tr>\n",
       "  </thead>\n",
       "  <tbody>\n",
       "    <tr>\n",
       "      <th>0</th>\n",
       "      <td>Aalst W.M.P.</td>\n",
       "      <td>The Data Science Revolution: How Learning Mach...</td>\n",
       "      <td>10.1007/978-3-030-64246-4_2</td>\n",
       "      <td>https://www.scopus.com/inward/record.uri?eid=2...</td>\n",
       "      <td>Data science technology is rapidly changing th...</td>\n",
       "      <td>Artificial Intelligence; Big data; Data scienc...</td>\n",
       "      <td>Data Science; Decision making; Digital storage...</td>\n",
       "    </tr>\n",
       "    <tr>\n",
       "      <th>1</th>\n",
       "      <td>Aarset M.V., Johannessen L.K.</td>\n",
       "      <td>On Distributed Cognition While Designing an AI...</td>\n",
       "      <td>10.3389/frai.2022.910630</td>\n",
       "      <td>https://www.scopus.com/inward/record.uri?eid=2...</td>\n",
       "      <td>When analyzing learning, focus has traditional...</td>\n",
       "      <td>adaptive learning; artificial intelligence; di...</td>\n",
       "      <td>blank</td>\n",
       "    </tr>\n",
       "  </tbody>\n",
       "</table>\n",
       "</div>"
      ],
      "text/plain": [
       "                         Authors  \\\n",
       "0                   Aalst W.M.P.   \n",
       "1  Aarset M.V., Johannessen L.K.   \n",
       "\n",
       "                                               Title  \\\n",
       "0  The Data Science Revolution: How Learning Mach...   \n",
       "1  On Distributed Cognition While Designing an AI...   \n",
       "\n",
       "                           DOI  \\\n",
       "0  10.1007/978-3-030-64246-4_2   \n",
       "1     10.3389/frai.2022.910630   \n",
       "\n",
       "                                                Link  \\\n",
       "0  https://www.scopus.com/inward/record.uri?eid=2...   \n",
       "1  https://www.scopus.com/inward/record.uri?eid=2...   \n",
       "\n",
       "                                            Abstract  \\\n",
       "0  Data science technology is rapidly changing th...   \n",
       "1  When analyzing learning, focus has traditional...   \n",
       "\n",
       "                                     Author Keywords  \\\n",
       "0  Artificial Intelligence; Big data; Data scienc...   \n",
       "1  adaptive learning; artificial intelligence; di...   \n",
       "\n",
       "                                      Index Keywords  \n",
       "0  Data Science; Decision making; Digital storage...  \n",
       "1                                              blank  "
      ]
     },
     "execution_count": 15,
     "metadata": {},
     "output_type": "execute_result"
    }
   ],
   "source": [
    "df.head(2)"
   ]
  },
  {
   "cell_type": "code",
   "execution_count": 16,
   "id": "d8c352a6",
   "metadata": {},
   "outputs": [],
   "source": [
    "non_alp = [';', ',', '(', ')', '[', ']', '.']\n",
    "for i in non_alp:\n",
    "    for col in ['Title','Abstract', 'Author Keywords', 'Index Keywords']:\n",
    "        #df[col] = df[col].str.lower().replace(i,'')\n",
    "        df[col] = df[col].map(lambda x: x.replace(i,''))"
   ]
  },
  {
   "cell_type": "code",
   "execution_count": 17,
   "id": "a8c7eaa7",
   "metadata": {},
   "outputs": [
    {
     "data": {
      "text/html": [
       "<div>\n",
       "<style scoped>\n",
       "    .dataframe tbody tr th:only-of-type {\n",
       "        vertical-align: middle;\n",
       "    }\n",
       "\n",
       "    .dataframe tbody tr th {\n",
       "        vertical-align: top;\n",
       "    }\n",
       "\n",
       "    .dataframe thead th {\n",
       "        text-align: right;\n",
       "    }\n",
       "</style>\n",
       "<table border=\"1\" class=\"dataframe\">\n",
       "  <thead>\n",
       "    <tr style=\"text-align: right;\">\n",
       "      <th></th>\n",
       "      <th>Authors</th>\n",
       "      <th>Title</th>\n",
       "      <th>DOI</th>\n",
       "      <th>Link</th>\n",
       "      <th>Abstract</th>\n",
       "      <th>Author Keywords</th>\n",
       "      <th>Index Keywords</th>\n",
       "    </tr>\n",
       "  </thead>\n",
       "  <tbody>\n",
       "    <tr>\n",
       "      <th>0</th>\n",
       "      <td>Aalst W.M.P.</td>\n",
       "      <td>The Data Science Revolution: How Learning Mach...</td>\n",
       "      <td>10.1007/978-3-030-64246-4_2</td>\n",
       "      <td>https://www.scopus.com/inward/record.uri?eid=2...</td>\n",
       "      <td>Data science technology is rapidly changing th...</td>\n",
       "      <td>Artificial Intelligence Big data Data science ...</td>\n",
       "      <td>Data Science Decision making Digital storage M...</td>\n",
       "    </tr>\n",
       "    <tr>\n",
       "      <th>1</th>\n",
       "      <td>Aarset M.V., Johannessen L.K.</td>\n",
       "      <td>On Distributed Cognition While Designing an AI...</td>\n",
       "      <td>10.3389/frai.2022.910630</td>\n",
       "      <td>https://www.scopus.com/inward/record.uri?eid=2...</td>\n",
       "      <td>When analyzing learning focus has traditionall...</td>\n",
       "      <td>adaptive learning artificial intelligence dist...</td>\n",
       "      <td>blank</td>\n",
       "    </tr>\n",
       "  </tbody>\n",
       "</table>\n",
       "</div>"
      ],
      "text/plain": [
       "                         Authors  \\\n",
       "0                   Aalst W.M.P.   \n",
       "1  Aarset M.V., Johannessen L.K.   \n",
       "\n",
       "                                               Title  \\\n",
       "0  The Data Science Revolution: How Learning Mach...   \n",
       "1  On Distributed Cognition While Designing an AI...   \n",
       "\n",
       "                           DOI  \\\n",
       "0  10.1007/978-3-030-64246-4_2   \n",
       "1     10.3389/frai.2022.910630   \n",
       "\n",
       "                                                Link  \\\n",
       "0  https://www.scopus.com/inward/record.uri?eid=2...   \n",
       "1  https://www.scopus.com/inward/record.uri?eid=2...   \n",
       "\n",
       "                                            Abstract  \\\n",
       "0  Data science technology is rapidly changing th...   \n",
       "1  When analyzing learning focus has traditionall...   \n",
       "\n",
       "                                     Author Keywords  \\\n",
       "0  Artificial Intelligence Big data Data science ...   \n",
       "1  adaptive learning artificial intelligence dist...   \n",
       "\n",
       "                                      Index Keywords  \n",
       "0  Data Science Decision making Digital storage M...  \n",
       "1                                              blank  "
      ]
     },
     "execution_count": 17,
     "metadata": {},
     "output_type": "execute_result"
    }
   ],
   "source": [
    "df.head(2)"
   ]
  },
  {
   "cell_type": "code",
   "execution_count": 18,
   "id": "ab88d2b7",
   "metadata": {},
   "outputs": [],
   "source": [
    "df['content_sum'] = df['Abstract'] + df['Title'] + df['Author Keywords'] + df['Index Keywords']\n",
    "#df['content_sum'].values[0].split()"
   ]
  },
  {
   "cell_type": "code",
   "execution_count": 19,
   "id": "2c9632f2",
   "metadata": {},
   "outputs": [],
   "source": [
    "df_copy = df.copy()"
   ]
  },
  {
   "cell_type": "code",
   "execution_count": 20,
   "id": "98c2600d",
   "metadata": {},
   "outputs": [
    {
     "data": {
      "text/plain": [
       "{'Production': ['affair',\n",
       "  'fruit',\n",
       "  'handiwork',\n",
       "  'labor',\n",
       "  'output',\n",
       "  'produce',\n",
       "  'product',\n",
       "  'thing',\n",
       "  'work',\n",
       "  'yield',\n",
       "  'Production'],\n",
       " 'Retail': ['deal (in)',\n",
       "  'market',\n",
       "  'merchandise',\n",
       "  'put up',\n",
       "  'sell',\n",
       "  'vend',\n",
       "  'Retail'],\n",
       " 'Processing': ['rectifying',\n",
       "  'refining',\n",
       "  'clarifying',\n",
       "  'clearing',\n",
       "  'distilling',\n",
       "  'filtering',\n",
       "  'fining',\n",
       "  'garbling',\n",
       "  'purifying',\n",
       "  'cleaning',\n",
       "  'cleansing',\n",
       "  'decontaminating',\n",
       "  'elutriating',\n",
       "  'purging',\n",
       "  'washing',\n",
       "  'extracting',\n",
       "  'leaching',\n",
       "  'bolting',\n",
       "  'screening',\n",
       "  'sieving',\n",
       "  'sifting',\n",
       "  'disinfecting',\n",
       "  'sanitizing',\n",
       "  'reprocessing',\n",
       "  'reusing',\n",
       "  'reclaiming',\n",
       "  'recovering',\n",
       "  'recycling',\n",
       "  'Processing'],\n",
       " 'Distribution': ['admeasurement',\n",
       "  'allocation',\n",
       "  'allotment',\n",
       "  'apportionment',\n",
       "  'disbursement',\n",
       "  'dispensation',\n",
       "  'division',\n",
       "  'issuance',\n",
       "  'arrangement',\n",
       "  'array',\n",
       "  'disposal',\n",
       "  'disposition',\n",
       "  'order',\n",
       "  'ordering',\n",
       "  'sequence',\n",
       "  'setup',\n",
       "  'Distribution']}"
      ]
     },
     "execution_count": 20,
     "metadata": {},
     "output_type": "execute_result"
    }
   ],
   "source": [
    "# Saving into a dictionary all of the syns\n",
    "keys_dict = {}\n",
    "for i in keys:\n",
    "    keys_dict[i] = get_synonyms_api(i)\n",
    " \n",
    "keys_dict"
   ]
  },
  {
   "cell_type": "code",
   "execution_count": 21,
   "id": "2d846187",
   "metadata": {},
   "outputs": [
    {
     "name": "stderr",
     "output_type": "stream",
     "text": [
      "<ipython-input-21-89572dbf2fbb>:7: SettingWithCopyWarning: \n",
      "A value is trying to be set on a copy of a slice from a DataFrame\n",
      "\n",
      "See the caveats in the documentation: https://pandas.pydata.org/pandas-docs/stable/user_guide/indexing.html#returning-a-view-versus-a-copy\n",
      "  df_copy[key][i] += 1\n",
      "<ipython-input-21-89572dbf2fbb>:7: SettingWithCopyWarning: \n",
      "A value is trying to be set on a copy of a slice from a DataFrame\n",
      "\n",
      "See the caveats in the documentation: https://pandas.pydata.org/pandas-docs/stable/user_guide/indexing.html#returning-a-view-versus-a-copy\n",
      "  df_copy[key][i] += 1\n",
      "<ipython-input-21-89572dbf2fbb>:7: SettingWithCopyWarning: \n",
      "A value is trying to be set on a copy of a slice from a DataFrame\n",
      "\n",
      "See the caveats in the documentation: https://pandas.pydata.org/pandas-docs/stable/user_guide/indexing.html#returning-a-view-versus-a-copy\n",
      "  df_copy[key][i] += 1\n",
      "<ipython-input-21-89572dbf2fbb>:7: SettingWithCopyWarning: \n",
      "A value is trying to be set on a copy of a slice from a DataFrame\n",
      "\n",
      "See the caveats in the documentation: https://pandas.pydata.org/pandas-docs/stable/user_guide/indexing.html#returning-a-view-versus-a-copy\n",
      "  df_copy[key][i] += 1\n"
     ]
    }
   ],
   "source": [
    "# counting the keyworkds with their syns in all of the documents\n",
    "for key in keys_dict.keys():\n",
    "    df_copy[key] = 0\n",
    "    for phr in keys_dict[key]:\n",
    "        for i in range(len(df_copy)):\n",
    "            if phr in (df_copy['content_sum'].values[i].split()):\n",
    "                df_copy[key][i] += 1\n",
    "    #df.loc[key, i] = count"
   ]
  },
  {
   "cell_type": "code",
   "execution_count": 22,
   "id": "493566fc",
   "metadata": {},
   "outputs": [
    {
     "data": {
      "text/plain": [
       "{'Production': 693, 'Retail': 39, 'Processing': 206, 'Distribution': 381}"
      ]
     },
     "execution_count": 22,
     "metadata": {},
     "output_type": "execute_result"
    }
   ],
   "source": [
    "df_copy[\"Production\"].sum()\n",
    "sum_dic = {}\n",
    "for i in keys:\n",
    "    sum_dic[i] = df_copy[i].sum()\n",
    " \n",
    "sum_dic"
   ]
  },
  {
   "cell_type": "code",
   "execution_count": 23,
   "id": "7859defe",
   "metadata": {},
   "outputs": [
    {
     "data": {
      "image/png": "[encoded data removed]",
      "text/plain": [
       "<Figure size 360x360 with 1 Axes>"
      ]
     },
     "metadata": {},
     "output_type": "display_data"
    }
   ],
   "source": [
    "# create a figure and set different background\n",
    "fig = plt.figure(figsize=(5,5))\n",
    "fig.patch.set_facecolor('white')\n",
    " \n",
    "# Change color of text\n",
    "plt.rcParams['text.color'] = 'black'\n",
    " \n",
    "# Pieplot + circle on it\n",
    "plt.pie(sum_dic.values(), labels=sum_dic.keys(), explode=(0, 0.1, 0, 0))\n",
    "p=plt.gcf()\n",
    "plt.show()"
   ]
  },
  {
   "cell_type": "code",
   "execution_count": 24,
   "id": "9d497b1e",
   "metadata": {},
   "outputs": [
    {
     "data": {
      "text/html": [
       "<div>\n",
       "<style scoped>\n",
       "    .dataframe tbody tr th:only-of-type {\n",
       "        vertical-align: middle;\n",
       "    }\n",
       "\n",
       "    .dataframe tbody tr th {\n",
       "        vertical-align: top;\n",
       "    }\n",
       "\n",
       "    .dataframe thead th {\n",
       "        text-align: right;\n",
       "    }\n",
       "</style>\n",
       "<table border=\"1\" class=\"dataframe\">\n",
       "  <thead>\n",
       "    <tr style=\"text-align: right;\">\n",
       "      <th></th>\n",
       "      <th>Authors</th>\n",
       "      <th>Title</th>\n",
       "      <th>DOI</th>\n",
       "      <th>Link</th>\n",
       "      <th>Abstract</th>\n",
       "      <th>Author Keywords</th>\n",
       "      <th>Index Keywords</th>\n",
       "      <th>content_sum</th>\n",
       "      <th>Production</th>\n",
       "      <th>Retail</th>\n",
       "      <th>Processing</th>\n",
       "      <th>Distribution</th>\n",
       "    </tr>\n",
       "  </thead>\n",
       "  <tbody>\n",
       "    <tr>\n",
       "      <th>28</th>\n",
       "      <td>Abdallah A.A.</td>\n",
       "      <td>Designing of Artificial Intelligence Methods f...</td>\n",
       "      <td>10.6688/JISE.202111_37(6).0005</td>\n",
       "      <td>https://www.scopus.com/inward/record.uri?eid=2...</td>\n",
       "      <td>There is good amount of potential for implemen...</td>\n",
       "      <td>Artificial intelligence Manufacturing Neural n...</td>\n",
       "      <td>Artificial intelligence Finishing Machining ce...</td>\n",
       "      <td>There is good amount of potential for implemen...</td>\n",
       "      <td>3</td>\n",
       "      <td>0</td>\n",
       "      <td>0</td>\n",
       "      <td>1</td>\n",
       "    </tr>\n",
       "    <tr>\n",
       "      <th>158</th>\n",
       "      <td>Adebayo J., Gilmer J., Goodfellow I., Kim B.</td>\n",
       "      <td>Local explanation methods for deep neural netw...</td>\n",
       "      <td>blank</td>\n",
       "      <td>https://www.scopus.com/inward/record.uri?eid=2...</td>\n",
       "      <td>Explaining the output of a complicated machine...</td>\n",
       "      <td>blank</td>\n",
       "      <td>Machine learning Machine learning models Sensi...</td>\n",
       "      <td>Explaining the output of a complicated machine...</td>\n",
       "      <td>3</td>\n",
       "      <td>0</td>\n",
       "      <td>0</td>\n",
       "      <td>0</td>\n",
       "    </tr>\n",
       "    <tr>\n",
       "      <th>618</th>\n",
       "      <td>Almeida A., Azevedo A.</td>\n",
       "      <td>A performance estimation framework for complex...</td>\n",
       "      <td>10.14809/faim.2014.0849</td>\n",
       "      <td>https://www.scopus.com/inward/record.uri?eid=2...</td>\n",
       "      <td>To cope with today market challenges and guara...</td>\n",
       "      <td>blank</td>\n",
       "      <td>Competition Complex networks Engineering educa...</td>\n",
       "      <td>To cope with today market challenges and guara...</td>\n",
       "      <td>3</td>\n",
       "      <td>1</td>\n",
       "      <td>0</td>\n",
       "      <td>1</td>\n",
       "    </tr>\n",
       "    <tr>\n",
       "      <th>1092</th>\n",
       "      <td>Arvind C.S., Totla A., Jain T., Sinha N., Jyot...</td>\n",
       "      <td>Deep Learning Based Plant Disease Classificati...</td>\n",
       "      <td>10.1109/SSCI50451.2021.9659869</td>\n",
       "      <td>https://www.scopus.com/inward/record.uri?eid=2...</td>\n",
       "      <td>Plants show visible symptoms of getting infect...</td>\n",
       "      <td>Deeplearning Deployment Explainable AI Plant D...</td>\n",
       "      <td>Deep neural networks Web browsers Computer aid...</td>\n",
       "      <td>Plants show visible symptoms of getting infect...</td>\n",
       "      <td>3</td>\n",
       "      <td>0</td>\n",
       "      <td>0</td>\n",
       "      <td>0</td>\n",
       "    </tr>\n",
       "  </tbody>\n",
       "</table>\n",
       "</div>"
      ],
      "text/plain": [
       "                                                Authors  \\\n",
       "28                                        Abdallah A.A.   \n",
       "158        Adebayo J., Gilmer J., Goodfellow I., Kim B.   \n",
       "618                              Almeida A., Azevedo A.   \n",
       "1092  Arvind C.S., Totla A., Jain T., Sinha N., Jyot...   \n",
       "\n",
       "                                                  Title  \\\n",
       "28    Designing of Artificial Intelligence Methods f...   \n",
       "158   Local explanation methods for deep neural netw...   \n",
       "618   A performance estimation framework for complex...   \n",
       "1092  Deep Learning Based Plant Disease Classificati...   \n",
       "\n",
       "                                 DOI  \\\n",
       "28    10.6688/JISE.202111_37(6).0005   \n",
       "158                            blank   \n",
       "618          10.14809/faim.2014.0849   \n",
       "1092  10.1109/SSCI50451.2021.9659869   \n",
       "\n",
       "                                                   Link  \\\n",
       "28    https://www.scopus.com/inward/record.uri?eid=2...   \n",
       "158   https://www.scopus.com/inward/record.uri?eid=2...   \n",
       "618   https://www.scopus.com/inward/record.uri?eid=2...   \n",
       "1092  https://www.scopus.com/inward/record.uri?eid=2...   \n",
       "\n",
       "                                               Abstract  \\\n",
       "28    There is good amount of potential for implemen...   \n",
       "158   Explaining the output of a complicated machine...   \n",
       "618   To cope with today market challenges and guara...   \n",
       "1092  Plants show visible symptoms of getting infect...   \n",
       "\n",
       "                                        Author Keywords  \\\n",
       "28    Artificial intelligence Manufacturing Neural n...   \n",
       "158                                               blank   \n",
       "618                                               blank   \n",
       "1092  Deeplearning Deployment Explainable AI Plant D...   \n",
       "\n",
       "                                         Index Keywords  \\\n",
       "28    Artificial intelligence Finishing Machining ce...   \n",
       "158   Machine learning Machine learning models Sensi...   \n",
       "618   Competition Complex networks Engineering educa...   \n",
       "1092  Deep neural networks Web browsers Computer aid...   \n",
       "\n",
       "                                            content_sum  Production  Retail  \\\n",
       "28    There is good amount of potential for implemen...           3       0   \n",
       "158   Explaining the output of a complicated machine...           3       0   \n",
       "618   To cope with today market challenges and guara...           3       1   \n",
       "1092  Plants show visible symptoms of getting infect...           3       0   \n",
       "\n",
       "      Processing  Distribution  \n",
       "28             0             1  \n",
       "158            0             0  \n",
       "618            0             1  \n",
       "1092           0             0  "
      ]
     },
     "execution_count": 24,
     "metadata": {},
     "output_type": "execute_result"
    }
   ],
   "source": [
    "df_copy.loc[df_copy[\"Production\"] > 2]"
   ]
  }
 ],
 "metadata": {
  "kernelspec": {
   "display_name": "Python 3.8.8 ('base')",
   "language": "python",
   "name": "python3"
  },
  "language_info": {
   "codemirror_mode": {
    "name": "ipython",
    "version": 3
   },
   "file_extension": ".py",
   "mimetype": "text/x-python",
   "name": "python",
   "nbconvert_exporter": "python",
   "pygments_lexer": "ipython3",
   "version": "3.8.8"
  },
  "vscode": {
   "interpreter": {
    "hash": "0a30e37873c21626933c3629ab168802ac8ae1ec678442c9f027947c9b171c46"
   }
  }
 },
 "nbformat": 4,
 "nbformat_minor": 5
}
