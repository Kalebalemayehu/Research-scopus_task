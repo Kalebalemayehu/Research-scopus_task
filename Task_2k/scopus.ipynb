{
 "cells": [
  {
   "cell_type": "code",
   "execution_count": 1,
   "id": "200d70e9",
   "metadata": {},
   "outputs": [],
   "source": [
    "import requests\n",
    "import re\n",
    "import pandas as pd\n",
    "import nltk\n",
    "import numpy as np\n",
    "from nltk.corpus import wordnet\n",
    "import matplotlib.pyplot as plt"
   ]
  },
  {
   "cell_type": "markdown",
   "id": "4c4b9578",
   "metadata": {},
   "source": [
    "## Synonyms with Thesaurus API"
   ]
  },
  {
   "cell_type": "code",
   "execution_count": null,
   "id": "1e080120",
   "metadata": {},
   "outputs": [],
   "source": [
    "keys = [\"production\", \"retail\", \"processing\", \"distribution\"]\n",
    "#no_keys = [ \"consumer discretionary\", \"consumer staples\", \"communication services\"]"
   ]
  },
  {
   "cell_type": "code",
   "execution_count": null,
   "id": "3dcfb07e",
   "metadata": {},
   "outputs": [],
   "source": [
    "url = \"https://www.dictionaryapi.com/api/v3/references/thesaurus/json/\"\n",
    "key= \"?key=bc125025-b3b8-4b13-b8e8-c1ef37845bad\"\n",
    "syn_json = requests.get(\"https://www.dictionaryapi.com/api/v3/references/collegiate/json/retail?key=68bb26ab-7a34-4349-ae23-f4bc5b51aac2\").json()"
   ]
  },
  {
   "cell_type": "code",
   "execution_count": null,
   "id": "f11c31ab",
   "metadata": {},
   "outputs": [],
   "source": [
    "syn_json"
   ]
  },
  {
   "cell_type": "code",
   "execution_count": null,
   "id": "030118c9",
   "metadata": {},
   "outputs": [],
   "source": [
    "def get_synonyms_api(key_word):\n",
    "    url = \"https://www.dictionaryapi.com/api/v3/references/thesaurus/json/\"\n",
    "    key= \"?key=bc125025-b3b8-4b13-b8e8-c1ef37845bad\"\n",
    "    syn_json = requests.get(url+key_word+key).json()\n",
    "    syn_list = syn_json[0]['meta']['syns']\n",
    "    if len(syn_list) > 1:\n",
    "        master = sum(syn_list, [])\n",
    "    elif len(syn_list) == 1:\n",
    "        master = syn_list[0]\n",
    "    master.append(key_word)\n",
    "    return master"
   ]
  },
  {
   "cell_type": "code",
   "execution_count": null,
   "id": "33e18e8f",
   "metadata": {},
   "outputs": [],
   "source": [
    "prod = get_synonyms_api(keys[0])\n",
    "retail = get_synonyms_api(keys[1])\n",
    "process = get_synonyms_api(keys[2])\n",
    "distri =  get_synonyms_api(keys[3])\n"
   ]
  },
  {
   "cell_type": "code",
   "execution_count": null,
   "id": "15777596",
   "metadata": {},
   "outputs": [],
   "source": [
    "retail"
   ]
  },
  {
   "cell_type": "markdown",
   "id": "51072688",
   "metadata": {},
   "source": [
    "## Synonyms with NLP"
   ]
  },
  {
   "cell_type": "code",
   "execution_count": null,
   "id": "a341a133",
   "metadata": {},
   "outputs": [],
   "source": [
    "def get_synonyms(phr):\n",
    "    phr_syn_lst = [phr]\n",
    "    phr_syn_lst = [i.name().lower() for syn in wordnet.synsets(phr) for i in syn.lemmas() ]\n",
    "\n",
    "    return (list(set(phr_syn_lst)))    "
   ]
  },
  {
   "cell_type": "code",
   "execution_count": null,
   "id": "b76cea5e",
   "metadata": {},
   "outputs": [],
   "source": [
    "get_synonyms(\"production\")"
   ]
  },
  {
   "cell_type": "code",
   "execution_count": null,
   "id": "de9b2296",
   "metadata": {},
   "outputs": [],
   "source": [
    "get_synonyms(\"retail\")"
   ]
  },
  {
   "cell_type": "markdown",
   "id": "69493901",
   "metadata": {},
   "source": [
    "## Algorithm"
   ]
  },
  {
   "cell_type": "code",
   "execution_count": null,
   "id": "0fbc754b",
   "metadata": {},
   "outputs": [],
   "source": [
    "df = pd.read_csv(\"scopus (4).csv\")#, on_bad_lines='skip')\n",
    "df.columns"
   ]
  },
  {
   "cell_type": "code",
   "execution_count": null,
   "id": "8e38babf",
   "metadata": {},
   "outputs": [],
   "source": [
    "df.info()"
   ]
  },
  {
   "cell_type": "code",
   "execution_count": null,
   "id": "beb165a8",
   "metadata": {},
   "outputs": [],
   "source": [
    "df = df.fillna(\"blank\")"
   ]
  },
  {
   "cell_type": "code",
   "execution_count": null,
   "id": "70686f70",
   "metadata": {},
   "outputs": [],
   "source": [
    "df.head(2)"
   ]
  },
  {
   "cell_type": "code",
   "execution_count": null,
   "id": "d8c352a6",
   "metadata": {},
   "outputs": [],
   "source": [
    "non_alp = [';', ',', '(', ')', '[', ']', '.']\n",
    "for i in non_alp:\n",
    "    for col in ['Title','Abstract', 'Author Keywords', 'Index Keywords']:\n",
    "        #df[col] = df[col].str.lower().replace(i,'')\n",
    "        df[col] = df[col].map(lambda x: x.replace(i,''))"
   ]
  },
  {
   "cell_type": "code",
   "execution_count": null,
   "id": "a8c7eaa7",
   "metadata": {},
   "outputs": [],
   "source": [
    "df.head(2)"
   ]
  },
  {
   "cell_type": "code",
   "execution_count": null,
   "id": "ab88d2b7",
   "metadata": {},
   "outputs": [],
   "source": [
    "df['content_sum'] = df['Abstract'] + df['Title'] + df['Author Keywords'] + df['Index Keywords']\n",
    "df[\"content_sum\"] = df[\"content_sum\"].str.lower()\n",
    "df['content_sum'].values[0].split()"
   ]
  },
  {
   "cell_type": "code",
   "execution_count": null,
   "id": "2c9632f2",
   "metadata": {},
   "outputs": [],
   "source": [
    "df_copy = df.copy()"
   ]
  },
  {
   "cell_type": "code",
   "execution_count": null,
   "id": "98c2600d",
   "metadata": {},
   "outputs": [],
   "source": [
    "# Saving into a dictionary all of the syns\n",
    "keys_dict = {}\n",
    "for i in keys:\n",
    "    keys_dict[i] = get_synonyms_api(i)\n",
    " \n",
    "keys_dict"
   ]
  },
  {
   "cell_type": "code",
   "execution_count": null,
   "id": "2d846187",
   "metadata": {},
   "outputs": [],
   "source": [
    "# counting the keyworkds with their syns in all of the documents\n",
    "for key in keys_dict.keys():\n",
    "    df_copy[key] = 0\n",
    "    for phr in keys_dict[key]:\n",
    "        for i in range(len(df_copy)):\n",
    "            if phr in (df_copy['content_sum'].values[i].split()):\n",
    "                df_copy[key][i] += 1\n",
    "    #df.loc[key, i] = count"
   ]
  },
  {
   "cell_type": "code",
   "execution_count": null,
   "id": "272ac4ff",
   "metadata": {},
   "outputs": [],
   "source": []
  },
  {
   "cell_type": "code",
   "execution_count": null,
   "id": "493566fc",
   "metadata": {},
   "outputs": [],
   "source": [
    "df_copy[\"Production\"].sum()\n",
    "sum_dic = {}\n",
    "for i in keys:\n",
    "    sum_dic[i] = df_copy[i].sum()\n",
    " \n",
    "sum_dic"
   ]
  },
  {
   "cell_type": "code",
   "execution_count": null,
   "id": "7859defe",
   "metadata": {},
   "outputs": [],
   "source": [
    "# create a figure and set different background\n",
    "fig = plt.figure(figsize=(5,5))\n",
    "fig.patch.set_facecolor('white')\n",
    " \n",
    "# Change color of text\n",
    "plt.rcParams['text.color'] = 'black'\n",
    " \n",
    "# Pieplot + circle on it\n",
    "plt.pie(sum_dic.values(), labels=sum_dic.keys(), explode=(0, 0.1, 0, 0))\n",
    "p=plt.gcf()\n",
    "plt.show()"
   ]
  },
  {
   "cell_type": "code",
   "execution_count": null,
   "id": "9d497b1e",
   "metadata": {},
   "outputs": [],
   "source": [
    "df_copy.loc[df_copy[\"Production\"] > 2]"
   ]
  }
 ],
 "metadata": {
  "kernelspec": {
   "display_name": "Python 3.10.0 64-bit",
   "language": "python",
   "name": "python3"
  },
  "language_info": {
   "codemirror_mode": {
    "name": "ipython",
    "version": 3
   },
   "file_extension": ".py",
   "mimetype": "text/x-python",
   "name": "python",
   "nbconvert_exporter": "python",
   "pygments_lexer": "ipython3",
   "version": "3.10.0"
  },
  "vscode": {
   "interpreter": {
    "hash": "aee8b7b246df8f9039afb4144a1f6fd8d2ca17a180786b69acc140d282b71a49"
   }
  }
 },
 "nbformat": 4,
 "nbformat_minor": 5
}
