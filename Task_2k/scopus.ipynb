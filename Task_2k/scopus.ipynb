{
 "cells": [
  {
   "cell_type": "code",
   "execution_count": 8,
   "id": "200d70e9",
   "metadata": {},
   "outputs": [],
   "source": [
    "import requests\n",
    "import re\n",
    "import pandas as pd\n",
    "import nltk\n",
    "import numpy as np\n",
    "from nltk.corpus import wordnet"
   ]
  },
  {
   "cell_type": "markdown",
   "id": "4c4b9578",
   "metadata": {},
   "source": [
    "## Synonyms with Thesaurus API"
   ]
  },
  {
   "cell_type": "code",
   "execution_count": 9,
   "id": "1e080120",
   "metadata": {},
   "outputs": [],
   "source": [
    "keys = [\"Production\", \"Retail\", \"Processing\", \"Distribution\"]\n",
    "#no_keys = [ \"consumer discretionary\", \"consumer staples\", \"communication services\"]"
   ]
  },
  {
   "cell_type": "code",
   "execution_count": 11,
   "id": "ad06534e",
   "metadata": {},
   "outputs": [
    {
     "ename": "JSONDecodeError",
     "evalue": "Expecting value: line 1 column 1 (char 0)",
     "output_type": "error",
     "traceback": [
      "\u001b[1;31m---------------------------------------------------------------------------\u001b[0m",
      "\u001b[1;31mJSONDecodeError\u001b[0m                           Traceback (most recent call last)",
      "\u001b[1;32mc:\\Users\\johna\\anaconda3\\lib\\site-packages\\requests\\models.py\u001b[0m in \u001b[0;36mjson\u001b[1;34m(self, **kwargs)\u001b[0m\n\u001b[0;32m    970\u001b[0m         \u001b[1;32mtry\u001b[0m\u001b[1;33m:\u001b[0m\u001b[1;33m\u001b[0m\u001b[1;33m\u001b[0m\u001b[0m\n\u001b[1;32m--> 971\u001b[1;33m             \u001b[1;32mreturn\u001b[0m \u001b[0mcomplexjson\u001b[0m\u001b[1;33m.\u001b[0m\u001b[0mloads\u001b[0m\u001b[1;33m(\u001b[0m\u001b[0mself\u001b[0m\u001b[1;33m.\u001b[0m\u001b[0mtext\u001b[0m\u001b[1;33m,\u001b[0m \u001b[1;33m**\u001b[0m\u001b[0mkwargs\u001b[0m\u001b[1;33m)\u001b[0m\u001b[1;33m\u001b[0m\u001b[1;33m\u001b[0m\u001b[0m\n\u001b[0m\u001b[0;32m    972\u001b[0m         \u001b[1;32mexcept\u001b[0m \u001b[0mJSONDecodeError\u001b[0m \u001b[1;32mas\u001b[0m \u001b[0me\u001b[0m\u001b[1;33m:\u001b[0m\u001b[1;33m\u001b[0m\u001b[1;33m\u001b[0m\u001b[0m\n",
      "\u001b[1;32mc:\\Users\\johna\\anaconda3\\lib\\site-packages\\simplejson\\__init__.py\u001b[0m in \u001b[0;36mloads\u001b[1;34m(s, encoding, cls, object_hook, parse_float, parse_int, parse_constant, object_pairs_hook, use_decimal, **kw)\u001b[0m\n\u001b[0;32m    524\u001b[0m             and not use_decimal and not kw):\n\u001b[1;32m--> 525\u001b[1;33m         \u001b[1;32mreturn\u001b[0m \u001b[0m_default_decoder\u001b[0m\u001b[1;33m.\u001b[0m\u001b[0mdecode\u001b[0m\u001b[1;33m(\u001b[0m\u001b[0ms\u001b[0m\u001b[1;33m)\u001b[0m\u001b[1;33m\u001b[0m\u001b[1;33m\u001b[0m\u001b[0m\n\u001b[0m\u001b[0;32m    526\u001b[0m     \u001b[1;32mif\u001b[0m \u001b[0mcls\u001b[0m \u001b[1;32mis\u001b[0m \u001b[1;32mNone\u001b[0m\u001b[1;33m:\u001b[0m\u001b[1;33m\u001b[0m\u001b[1;33m\u001b[0m\u001b[0m\n",
      "\u001b[1;32mc:\\Users\\johna\\anaconda3\\lib\\site-packages\\simplejson\\decoder.py\u001b[0m in \u001b[0;36mdecode\u001b[1;34m(self, s, _w, _PY3)\u001b[0m\n\u001b[0;32m    369\u001b[0m             \u001b[0ms\u001b[0m \u001b[1;33m=\u001b[0m \u001b[0mstr\u001b[0m\u001b[1;33m(\u001b[0m\u001b[0ms\u001b[0m\u001b[1;33m,\u001b[0m \u001b[0mself\u001b[0m\u001b[1;33m.\u001b[0m\u001b[0mencoding\u001b[0m\u001b[1;33m)\u001b[0m\u001b[1;33m\u001b[0m\u001b[1;33m\u001b[0m\u001b[0m\n\u001b[1;32m--> 370\u001b[1;33m         \u001b[0mobj\u001b[0m\u001b[1;33m,\u001b[0m \u001b[0mend\u001b[0m \u001b[1;33m=\u001b[0m \u001b[0mself\u001b[0m\u001b[1;33m.\u001b[0m\u001b[0mraw_decode\u001b[0m\u001b[1;33m(\u001b[0m\u001b[0ms\u001b[0m\u001b[1;33m)\u001b[0m\u001b[1;33m\u001b[0m\u001b[1;33m\u001b[0m\u001b[0m\n\u001b[0m\u001b[0;32m    371\u001b[0m         \u001b[0mend\u001b[0m \u001b[1;33m=\u001b[0m \u001b[0m_w\u001b[0m\u001b[1;33m(\u001b[0m\u001b[0ms\u001b[0m\u001b[1;33m,\u001b[0m \u001b[0mend\u001b[0m\u001b[1;33m)\u001b[0m\u001b[1;33m.\u001b[0m\u001b[0mend\u001b[0m\u001b[1;33m(\u001b[0m\u001b[1;33m)\u001b[0m\u001b[1;33m\u001b[0m\u001b[1;33m\u001b[0m\u001b[0m\n",
      "\u001b[1;32mc:\\Users\\johna\\anaconda3\\lib\\site-packages\\simplejson\\decoder.py\u001b[0m in \u001b[0;36mraw_decode\u001b[1;34m(self, s, idx, _w, _PY3)\u001b[0m\n\u001b[0;32m    399\u001b[0m                 \u001b[0midx\u001b[0m \u001b[1;33m+=\u001b[0m \u001b[1;36m3\u001b[0m\u001b[1;33m\u001b[0m\u001b[1;33m\u001b[0m\u001b[0m\n\u001b[1;32m--> 400\u001b[1;33m         \u001b[1;32mreturn\u001b[0m \u001b[0mself\u001b[0m\u001b[1;33m.\u001b[0m\u001b[0mscan_once\u001b[0m\u001b[1;33m(\u001b[0m\u001b[0ms\u001b[0m\u001b[1;33m,\u001b[0m \u001b[0midx\u001b[0m\u001b[1;33m=\u001b[0m\u001b[0m_w\u001b[0m\u001b[1;33m(\u001b[0m\u001b[0ms\u001b[0m\u001b[1;33m,\u001b[0m \u001b[0midx\u001b[0m\u001b[1;33m)\u001b[0m\u001b[1;33m.\u001b[0m\u001b[0mend\u001b[0m\u001b[1;33m(\u001b[0m\u001b[1;33m)\u001b[0m\u001b[1;33m)\u001b[0m\u001b[1;33m\u001b[0m\u001b[1;33m\u001b[0m\u001b[0m\n\u001b[0m",
      "\u001b[1;31mJSONDecodeError\u001b[0m: Expecting value: line 1 column 1 (char 0)",
      "\nDuring handling of the above exception, another exception occurred:\n",
      "\u001b[1;31mJSONDecodeError\u001b[0m                           Traceback (most recent call last)",
      "\u001b[1;32m<ipython-input-11-ae695084bd63>\u001b[0m in \u001b[0;36m<module>\u001b[1;34m\u001b[0m\n\u001b[0;32m      3\u001b[0m \u001b[1;32mfor\u001b[0m \u001b[0mword\u001b[0m \u001b[1;32min\u001b[0m \u001b[0mkeys\u001b[0m\u001b[1;33m:\u001b[0m\u001b[1;33m\u001b[0m\u001b[1;33m\u001b[0m\u001b[0m\n\u001b[0;32m      4\u001b[0m     \u001b[0mx\u001b[0m \u001b[1;33m=\u001b[0m \u001b[0mrequests\u001b[0m\u001b[1;33m.\u001b[0m\u001b[0mget\u001b[0m\u001b[1;33m(\u001b[0m\u001b[1;34mf\"https://www.dictionaryapi.com/api/v3/references/thesaurus/json/{word}?key=a391c320-fea8-4167-9546-2a4931b2d191\"\u001b[0m\u001b[1;33m)\u001b[0m\u001b[1;33m\u001b[0m\u001b[1;33m\u001b[0m\u001b[0m\n\u001b[1;32m----> 5\u001b[1;33m     \u001b[0mdata\u001b[0m \u001b[1;33m=\u001b[0m \u001b[0mx\u001b[0m\u001b[1;33m.\u001b[0m\u001b[0mjson\u001b[0m\u001b[1;33m(\u001b[0m\u001b[1;33m)\u001b[0m\u001b[1;33m\u001b[0m\u001b[1;33m\u001b[0m\u001b[0m\n\u001b[0m\u001b[0;32m      6\u001b[0m     \u001b[0mmaster_list\u001b[0m\u001b[1;33m[\u001b[0m\u001b[0mkeys\u001b[0m\u001b[1;33m[\u001b[0m\u001b[0mi\u001b[0m\u001b[1;33m]\u001b[0m\u001b[1;33m]\u001b[0m \u001b[1;33m=\u001b[0m \u001b[0mdata\u001b[0m\u001b[1;33m\u001b[0m\u001b[1;33m\u001b[0m\u001b[0m\n\u001b[0;32m      7\u001b[0m     \u001b[0mi\u001b[0m \u001b[1;33m+=\u001b[0m \u001b[1;36m1\u001b[0m\u001b[1;33m\u001b[0m\u001b[1;33m\u001b[0m\u001b[0m\n",
      "\u001b[1;32mc:\\Users\\johna\\anaconda3\\lib\\site-packages\\requests\\models.py\u001b[0m in \u001b[0;36mjson\u001b[1;34m(self, **kwargs)\u001b[0m\n\u001b[0;32m    973\u001b[0m             \u001b[1;31m# Catch JSON-related errors and raise as requests.JSONDecodeError\u001b[0m\u001b[1;33m\u001b[0m\u001b[1;33m\u001b[0m\u001b[1;33m\u001b[0m\u001b[0m\n\u001b[0;32m    974\u001b[0m             \u001b[1;31m# This aliases json.JSONDecodeError and simplejson.JSONDecodeError\u001b[0m\u001b[1;33m\u001b[0m\u001b[1;33m\u001b[0m\u001b[1;33m\u001b[0m\u001b[0m\n\u001b[1;32m--> 975\u001b[1;33m             \u001b[1;32mraise\u001b[0m \u001b[0mRequestsJSONDecodeError\u001b[0m\u001b[1;33m(\u001b[0m\u001b[0me\u001b[0m\u001b[1;33m.\u001b[0m\u001b[0mmsg\u001b[0m\u001b[1;33m,\u001b[0m \u001b[0me\u001b[0m\u001b[1;33m.\u001b[0m\u001b[0mdoc\u001b[0m\u001b[1;33m,\u001b[0m \u001b[0me\u001b[0m\u001b[1;33m.\u001b[0m\u001b[0mpos\u001b[0m\u001b[1;33m)\u001b[0m\u001b[1;33m\u001b[0m\u001b[1;33m\u001b[0m\u001b[0m\n\u001b[0m\u001b[0;32m    976\u001b[0m \u001b[1;33m\u001b[0m\u001b[0m\n\u001b[0;32m    977\u001b[0m     \u001b[1;33m@\u001b[0m\u001b[0mproperty\u001b[0m\u001b[1;33m\u001b[0m\u001b[1;33m\u001b[0m\u001b[0m\n",
      "\u001b[1;31mJSONDecodeError\u001b[0m: Expecting value: line 1 column 1 (char 0)"
     ]
    }
   ],
   "source": [
    "master_list = {}\n",
    "i = 0\n",
    "for word in keys:\n",
    "    x = requests.get(f\"https://www.dictionaryapi.com/api/v3/references/thesaurus/json/{word}?key=\")\n",
    "    data = x.json()\n",
    "    master_list[keys[i]] = data\n",
    "    i += 1\n",
    "\n",
    "master_list.keys()"
   ]
  },
  {
   "cell_type": "markdown",
   "id": "11ecd17e",
   "metadata": {},
   "source": [
    "### Problems with some words\n",
    "\n",
    "None of these words work with the API (DO NOT WORK)\n",
    "\n",
    "    -> they do not exist within the Thesaurus, therefore the JSON returns a list with possible words\n",
    "Definition of Consumer Discretionary:\n",
    "- goods that are non-essential but desirable if their income is sufficient to purchase them\n",
    "\n",
    "Definition of Consumer Staples:\n",
    "- goods that are essential\n",
    "\n",
    "Definition of Communication Services:\n",
    "- elecommunications Services, Cable Services, Video Services, or Information Services\n",
    "\n",
    "-> Solution for now: remove those words from here"
   ]
  },
  {
   "cell_type": "code",
   "execution_count": 6,
   "id": "f5186f16",
   "metadata": {},
   "outputs": [
    {
     "data": {
      "text/plain": [
       "{'meta': {'id': 'production',\n",
       "  'uuid': 'd8e5a3d3-0ede-461f-b2c7-a84c6a287e6d',\n",
       "  'sort': '167730000',\n",
       "  'src': 'collegiate',\n",
       "  'section': 'alpha',\n",
       "  'stems': ['production', 'productional', 'productions'],\n",
       "  'offensive': False},\n",
       " 'hwi': {'hw': 'pro*duc*tion',\n",
       "  'prs': [{'mw': 'prə-ˈdək-shən',\n",
       "    'sound': {'audio': 'produc07', 'ref': 'c', 'stat': '1'}},\n",
       "   {'mw': 'prō-'}]},\n",
       " 'fl': 'noun',\n",
       " 'def': [{'sseq': [[['sense',\n",
       "      {'sn': '1 a',\n",
       "       'dt': [['text',\n",
       "         '{bc}something {a_link|produced} {bc}{sx|product||}']]}],\n",
       "     ['pseq',\n",
       "      [['sense',\n",
       "        {'sn': 'b (1)', 'dt': [['text', '{bc}a literary or artistic work']]}],\n",
       "       ['sense',\n",
       "        {'sn': '(2)',\n",
       "         'dt': [['text',\n",
       "           '{bc}a work presented to the public (as on the stage or screen or over the air)']]}]]],\n",
       "     ['sense',\n",
       "      {'sn': 'c',\n",
       "       'dt': [['text',\n",
       "         '{bc}something exaggerated out of proportion to its importance']]}]],\n",
       "    [['sense',\n",
       "      {'sn': '2 a',\n",
       "       'dt': [['text', '{bc}the act or process of {a_link|producing}']]}],\n",
       "     ['sense',\n",
       "      {'sn': 'b',\n",
       "       'dt': [['text', '{bc}the creation of utility']],\n",
       "       'sdsense': {'sd': 'especially',\n",
       "        'dt': [['text', '{bc}the making of goods available for use']]}}]],\n",
       "    [['sense',\n",
       "      {'sn': '3',\n",
       "       'dt': [['text',\n",
       "         '{bc}total output especially of a commodity or an industry']]}]],\n",
       "    [['sense',\n",
       "      {'sn': '4',\n",
       "       'lbs': ['often attributive'],\n",
       "       'dt': [['text',\n",
       "         '{bc}something not specially designed or customized and usually mass-produced '],\n",
       "        ['vis',\n",
       "         [{'t': 'a {wi}production{/wi} car'},\n",
       "          {'t': '{wi}production{/wi} housing'}]]]}]]]}],\n",
       " 'uros': [{'ure': 'pro*duc*tion*al',\n",
       "   'prs': [{'mw': 'prə-ˈdək-shnəl',\n",
       "     'sound': {'audio': 'produc08', 'ref': 'c', 'stat': '1'}},\n",
       "    {'mw': 'prō-'},\n",
       "    {'mw': '-shə-nᵊl'}],\n",
       "   'fl': 'adjective'}],\n",
       " 'date': '15th century{ds||1|a|}',\n",
       " 'shortdef': ['something produced : product',\n",
       "  'a literary or artistic work',\n",
       "  'a work presented to the public (as on the stage or screen or over the air)']}"
      ]
     },
     "execution_count": 6,
     "metadata": {},
     "output_type": "execute_result"
    }
   ],
   "source": [
    "# consumer discretionary, consumer staples, communication services\n",
    "master_list[\"Production\"][0]#[\"def\"]#.keys()"
   ]
  },
  {
   "cell_type": "code",
   "execution_count": 7,
   "id": "87258fc1",
   "metadata": {},
   "outputs": [
    {
     "data": {
      "text/plain": [
       "[dict_keys(['meta', 'hwi', 'fl', 'def', 'uros', 'date', 'shortdef']),\n",
       " dict_keys(['meta', 'hom', 'hwi', 'fl', 'ins', 'def', 'uros', 'date', 'shortdef']),\n",
       " dict_keys(['meta', 'hom', 'hwi', 'fl', 'ins', 'def', 'date', 'shortdef']),\n",
       " dict_keys(['meta', 'hwi', 'fl', 'def', 'uros', 'date', 'shortdef'])]"
      ]
     },
     "execution_count": 7,
     "metadata": {},
     "output_type": "execute_result"
    }
   ],
   "source": [
    "# check that each word within master_list contains the \"syns\"\n",
    "keys_within_keys = [master_list[key][0].keys() for key in master_list]\n",
    "keys_within_keys"
   ]
  },
  {
   "cell_type": "markdown",
   "id": "51072688",
   "metadata": {},
   "source": [
    "## Synonyms with NLP"
   ]
  },
  {
   "cell_type": "code",
   "execution_count": null,
   "id": "a341a133",
   "metadata": {},
   "outputs": [],
   "source": [
    "def get_synonyms(phr):\n",
    "    phr_syn_lst = [phr]\n",
    "    phr_syn_lst = [i.name().lower() for syn in wordnet.synsets(phr) for i in syn.lemmas() ]\n",
    "\n",
    "    return (list(set(phr_syn_lst)))    "
   ]
  },
  {
   "cell_type": "code",
   "execution_count": null,
   "id": "b76cea5e",
   "metadata": {},
   "outputs": [],
   "source": [
    "get_synonyms(\"agree\")"
   ]
  },
  {
   "cell_type": "markdown",
   "id": "69493901",
   "metadata": {},
   "source": [
    "## Algorithm"
   ]
  },
  {
   "cell_type": "code",
   "execution_count": null,
   "id": "0fbc754b",
   "metadata": {},
   "outputs": [],
   "source": [
    "df = pd.read_csv(\"scopus_2k.csv\")#, on_bad_lines='skip')\n",
    "df.columns"
   ]
  },
  {
   "cell_type": "code",
   "execution_count": null,
   "id": "93edd833",
   "metadata": {},
   "outputs": [],
   "source": [
    "df['Abstract'] = df['Abstract'].str.lower()\n",
    "df['Title'] = df['Title'].str.lower()\n",
    "df['Author Keywords'] = df['Author Keywords'].str.lower()\n",
    "df['Index Keywords'] = df['Index Keywords'].str.lower()"
   ]
  },
  {
   "cell_type": "code",
   "execution_count": null,
   "id": "8e38babf",
   "metadata": {},
   "outputs": [],
   "source": [
    "df.info()"
   ]
  },
  {
   "cell_type": "code",
   "execution_count": null,
   "id": "beb165a8",
   "metadata": {},
   "outputs": [],
   "source": [
    "df = df.fillna(\"blank\")"
   ]
  },
  {
   "cell_type": "code",
   "execution_count": null,
   "id": "70686f70",
   "metadata": {},
   "outputs": [],
   "source": [
    "df.head(2)"
   ]
  },
  {
   "cell_type": "code",
   "execution_count": null,
   "id": "f5915880",
   "metadata": {},
   "outputs": [],
   "source": [
    "for col in ['Title','Abstract', 'Author Keywords', 'Index Keywords']:\n",
    "    df[col] = df[col].map(lambda x: x.replace(';',''))\n",
    "    df[col] = df[col].map(lambda x: x.replace(',',''))\n",
    "    df[col] = df[col].map(lambda x: x.replace(')',''))\n",
    "    df[col] = df[col].map(lambda x: x.replace('(',''))"
   ]
  },
  {
   "cell_type": "code",
   "execution_count": null,
   "id": "ab88d2b7",
   "metadata": {},
   "outputs": [],
   "source": [
    "df['content_sum'] = df['Abstract'] + df['Title'] + df['Author Keywords'] + df['Index Keywords']\n",
    "df['content_sum'].values[0].split()"
   ]
  },
  {
   "cell_type": "code",
   "execution_count": null,
   "id": "2c9632f2",
   "metadata": {},
   "outputs": [],
   "source": [
    "df_copy = df.copy()"
   ]
  },
  {
   "cell_type": "code",
   "execution_count": null,
   "id": "4a6a9078",
   "metadata": {},
   "outputs": [],
   "source": [
    "key_words = [\"energy\", \"materials\", \"industrials\", \"consumer discretionary\", \"consumer staples\", \"health care\", \"financials\", \"information technology\", \"communication services\", \"utilities\", \"real estate\"]"
   ]
  },
  {
   "cell_type": "code",
   "execution_count": null,
   "id": "7d3acc9e",
   "metadata": {},
   "outputs": [],
   "source": [
    "for key in key_words:\n",
    "    df[key] = 0\n",
    "    for phr in get_synonyms(key):\n",
    "        for i in range(len(df)): \n",
    "            if phr in (df['content_sum'].values[i].split()):\n",
    "                df[key][i] += 1\n",
    "    #df.loc[key, i] = count"
   ]
  },
  {
   "cell_type": "code",
   "execution_count": null,
   "id": "b7999fd1",
   "metadata": {},
   "outputs": [],
   "source": [
    "df"
   ]
  }
 ],
 "metadata": {
  "kernelspec": {
   "display_name": "Python 3.8.8 ('base')",
   "language": "python",
   "name": "python3"
  },
  "language_info": {
   "codemirror_mode": {
    "name": "ipython",
    "version": 3
   },
   "file_extension": ".py",
   "mimetype": "text/x-python",
   "name": "python",
   "nbconvert_exporter": "python",
   "pygments_lexer": "ipython3",
   "version": "3.8.8"
  },
  "vscode": {
   "interpreter": {
    "hash": "0a30e37873c21626933c3629ab168802ac8ae1ec678442c9f027947c9b171c46"
   }
  }
 },
 "nbformat": 4,
 "nbformat_minor": 5
}
