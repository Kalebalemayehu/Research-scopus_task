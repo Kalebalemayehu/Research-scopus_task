{
 "cells": [
  {
   "cell_type": "code",
   "execution_count": 1,
   "id": "200d70e9",
   "metadata": {},
   "outputs": [],
   "source": [
    "import requests\n",
    "import re\n",
    "import pandas as pd\n",
    "import nltk\n",
    "import numpy as np\n",
    "from nltk.corpus import wordnet"
   ]
  },
  {
   "cell_type": "markdown",
   "id": "4c4b9578",
   "metadata": {},
   "source": [
    "## Synonyms with Thesaurus API"
   ]
  },
  {
   "cell_type": "code",
   "execution_count": 2,
   "id": "1e080120",
   "metadata": {},
   "outputs": [],
   "source": [
    "keys = [\"energy\", \"materials\", \"industrials\", \"health care\", \"financials\", \"information technology\", \"utilities\", \"real estate\"]\n",
    "no_keys = [ \"consumer discretionary\", \"consumer staples\", \"communication services\"]"
   ]
  },
  {
   "cell_type": "code",
   "execution_count": 3,
   "id": "ad06534e",
   "metadata": {},
   "outputs": [
    {
     "data": {
      "text/plain": [
       "dict_keys(['energy', 'materials', 'industrials', 'health care', 'financials', 'information technology', 'utilities', 'real estate'])"
      ]
     },
     "execution_count": 3,
     "metadata": {},
     "output_type": "execute_result"
    }
   ],
   "source": [
    "master_list = {}\n",
    "i = 0\n",
    "for word in keys:\n",
    "    x = requests.get(f\"https://www.dictionaryapi.com/api/v3/references/collegiate/json/{word}?key=a391c320-fea8-4167-9546-2a4931b2d191\")\n",
    "    data = x.json()\n",
    "    master_list[keys[i]] = data\n",
    "    i += 1\n",
    "\n",
    "master_list.keys()"
   ]
  },
  {
   "cell_type": "markdown",
   "id": "11ecd17e",
   "metadata": {},
   "source": [
    "### Problems with some words\n",
    "\n",
    "consumer discretionary, consumer staples, communication services (DO NOT WORK)\n",
    "\n",
    "    -> they do not exist within the Thesaurus, therefore the JSON returns a list with possible words\n",
    "Definition of Consumer Discretionary:\n",
    "- goods that are non-essential but desirable if their income is sufficient to purchase them\n",
    "\n",
    "Definition of Consumer Staples:\n",
    "- goods that are essential\n",
    "\n",
    "Definition of Communication Services:\n",
    "- elecommunications Services, Cable Services, Video Services, or Information Services\n",
    "\n",
    "-> Solution for now: remove those words from here"
   ]
  },
  {
   "cell_type": "code",
   "execution_count": 9,
   "id": "f5186f16",
   "metadata": {},
   "outputs": [
    {
     "data": {
      "text/plain": [
       "{'meta': {'id': 'real estate',\n",
       "  'uuid': '4480a3e1-34ea-427a-9b28-6a59bece7c65',\n",
       "  'sort': '180749000',\n",
       "  'src': 'collegiate',\n",
       "  'section': 'alpha',\n",
       "  'stems': ['real estate', 'real estates'],\n",
       "  'offensive': False},\n",
       " 'hwi': {'hw': 'real estate'},\n",
       " 'fl': 'noun',\n",
       " 'def': [{'sseq': [[['sense',\n",
       "      {'sn': '1', 'dt': [['text', '{bc}property in buildings and land']]}]],\n",
       "    [['sense',\n",
       "      {'sn': '2',\n",
       "       'dt': [['text', '{bc}{sx|space||}, {sx|capacity||} '],\n",
       "        ['vis',\n",
       "         [{'t': 'her desktop {it}real estate{/it}'},\n",
       "          {'t': 'the limited {it}real estate{/it} on hard drives',\n",
       "           'aq': {'auth': 'Leonard Wiener'}}]]]}]]]}],\n",
       " 'date': 'circa 1642{ds||1||}',\n",
       " 'shortdef': ['property in buildings and land', 'space, capacity']}"
      ]
     },
     "execution_count": 9,
     "metadata": {},
     "output_type": "execute_result"
    }
   ],
   "source": [
    "# consumer discretionary, consumer staples, communication services\n",
    "master_list[\"real estate\"][0]#[\"def\"]#.keys()"
   ]
  },
  {
   "cell_type": "code",
   "execution_count": 11,
   "id": "87258fc1",
   "metadata": {},
   "outputs": [
    {
     "data": {
      "text/plain": [
       "[dict_keys(['meta', 'hwi', 'fl', 'ins', 'def', 'syns', 'et', 'date', 'shortdef']),\n",
       " dict_keys(['meta', 'hom', 'hwi', 'fl', 'def', 'et', 'date', 'shortdef']),\n",
       " dict_keys(['meta', 'hom', 'hwi', 'fl', 'def', 'date', 'shortdef']),\n",
       " dict_keys(['meta', 'hwi', 'vrs', 'fl', 'def', 'date', 'shortdef']),\n",
       " dict_keys(['meta', 'hwi', 'fl', 'def', 'date', 'shortdef']),\n",
       " dict_keys(['meta', 'hwi', 'fl', 'def', 'date', 'shortdef']),\n",
       " dict_keys(['meta', 'hom', 'hwi', 'fl', 'ins', 'def', 'et', 'date', 'shortdef']),\n",
       " dict_keys(['meta', 'hwi', 'fl', 'def', 'date', 'shortdef'])]"
      ]
     },
     "execution_count": 11,
     "metadata": {},
     "output_type": "execute_result"
    }
   ],
   "source": [
    "# check that each word within master_list contains the \"syns\"\n",
    "keys_within_keys = [master_list[key][0].keys() for key in master_list]\n",
    "keys_within_keys"
   ]
  },
  {
   "cell_type": "markdown",
   "id": "51072688",
   "metadata": {},
   "source": [
    "## Synonyms with NLP"
   ]
  },
  {
   "cell_type": "code",
   "execution_count": null,
   "id": "a341a133",
   "metadata": {},
   "outputs": [],
   "source": [
    "def get_synonyms(phr):\n",
    "    phr_syn_lst = [phr]\n",
    "    phr_syn_lst = [i.name().lower() for syn in wordnet.synsets(phr) for i in syn.lemmas() ]\n",
    "\n",
    "    return (list(set(phr_syn_lst)))    "
   ]
  },
  {
   "cell_type": "code",
   "execution_count": null,
   "id": "b76cea5e",
   "metadata": {},
   "outputs": [],
   "source": [
    "get_synonyms(\"agree\")"
   ]
  },
  {
   "cell_type": "markdown",
   "id": "69493901",
   "metadata": {},
   "source": [
    "## Algorithm"
   ]
  },
  {
   "cell_type": "code",
   "execution_count": null,
   "id": "0fbc754b",
   "metadata": {},
   "outputs": [],
   "source": [
    "df = pd.read_csv(\"scopus_2k.csv\")#, on_bad_lines='skip')\n",
    "df.columns"
   ]
  },
  {
   "cell_type": "code",
   "execution_count": null,
   "id": "93edd833",
   "metadata": {},
   "outputs": [],
   "source": [
    "df['Abstract'] = df['Abstract'].str.lower()\n",
    "df['Title'] = df['Title'].str.lower()\n",
    "df['Author Keywords'] = df['Author Keywords'].str.lower()\n",
    "df['Index Keywords'] = df['Index Keywords'].str.lower()"
   ]
  },
  {
   "cell_type": "code",
   "execution_count": null,
   "id": "8e38babf",
   "metadata": {},
   "outputs": [],
   "source": [
    "df.info()"
   ]
  },
  {
   "cell_type": "code",
   "execution_count": null,
   "id": "beb165a8",
   "metadata": {},
   "outputs": [],
   "source": [
    "df = df.fillna(\"blank\")"
   ]
  },
  {
   "cell_type": "code",
   "execution_count": null,
   "id": "70686f70",
   "metadata": {},
   "outputs": [],
   "source": [
    "df.head(2)"
   ]
  },
  {
   "cell_type": "code",
   "execution_count": null,
   "id": "f5915880",
   "metadata": {},
   "outputs": [],
   "source": [
    "for col in ['Title','Abstract', 'Author Keywords', 'Index Keywords']:\n",
    "    df[col] = df[col].map(lambda x: x.replace(';',''))\n",
    "    df[col] = df[col].map(lambda x: x.replace(',',''))\n",
    "    df[col] = df[col].map(lambda x: x.replace(')',''))\n",
    "    df[col] = df[col].map(lambda x: x.replace('(',''))"
   ]
  },
  {
   "cell_type": "code",
   "execution_count": null,
   "id": "ab88d2b7",
   "metadata": {},
   "outputs": [],
   "source": [
    "df['content_sum'] = df['Abstract'] + df['Title'] + df['Author Keywords'] + df['Index Keywords']\n",
    "df['content_sum'].values[0].split()"
   ]
  },
  {
   "cell_type": "code",
   "execution_count": null,
   "id": "2c9632f2",
   "metadata": {},
   "outputs": [],
   "source": [
    "df_copy = df.copy()"
   ]
  },
  {
   "cell_type": "code",
   "execution_count": null,
   "id": "4a6a9078",
   "metadata": {},
   "outputs": [],
   "source": [
    "key_words = [\"energy\", \"materials\", \"industrials\", \"consumer discretionary\", \"consumer staples\", \"health care\", \"financials\", \"information technology\", \"communication services\", \"utilities\", \"real estate\"]"
   ]
  },
  {
   "cell_type": "code",
   "execution_count": null,
   "id": "7d3acc9e",
   "metadata": {},
   "outputs": [],
   "source": [
    "for key in key_words:\n",
    "    df[key] = 0\n",
    "    for phr in get_synonyms(key):\n",
    "        for i in range(len(df)): \n",
    "            if phr in (df['content_sum'].values[i].split()):\n",
    "                df[key][i] += 1\n",
    "    #df.loc[key, i] = count"
   ]
  },
  {
   "cell_type": "code",
   "execution_count": null,
   "id": "b7999fd1",
   "metadata": {},
   "outputs": [],
   "source": [
    "df"
   ]
  }
 ],
 "metadata": {
  "kernelspec": {
   "display_name": "Python 3.8.8 ('base')",
   "language": "python",
   "name": "python3"
  },
  "language_info": {
   "codemirror_mode": {
    "name": "ipython",
    "version": 3
   },
   "file_extension": ".py",
   "mimetype": "text/x-python",
   "name": "python",
   "nbconvert_exporter": "python",
   "pygments_lexer": "ipython3",
   "version": "3.8.8"
  },
  "vscode": {
   "interpreter": {
    "hash": "0a30e37873c21626933c3629ab168802ac8ae1ec678442c9f027947c9b171c46"
   }
  }
 },
 "nbformat": 4,
 "nbformat_minor": 5
}
