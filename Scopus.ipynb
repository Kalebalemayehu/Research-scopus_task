{
 "cells": [
  {
   "cell_type": "code",
   "execution_count": null,
   "id": "f63cbde9",
   "metadata": {},
   "outputs": [],
   "source": [
    "import requests\n",
    "import re\n",
    "import pandas as pd\n",
    "import numpy as np\n",
    "import matplotlib.pyplot as plt\n",
    "import nltk\n",
    "from nltk.corpus import stopwords\n",
    "nltk.download('stopwords')\n",
    "pd.options.mode.chained_assignment = None  # default='warn'"
   ]
  },
  {
   "cell_type": "markdown",
   "id": "4c4b9578",
   "metadata": {},
   "source": [
    "## Synonyms with Thesaurus API"
   ]
  },
  {
   "cell_type": "code",
   "execution_count": null,
   "id": "ad06534e",
   "metadata": {},
   "outputs": [],
   "source": [
    "def get_synonyms_api(key_word):\n",
    "    url = \"https://www.dictionaryapi.com/api/v3/references/thesaurus/json/\"\n",
    "    key= \"?key=bc125025-b3b8-4b13-b8e8-c1ef37845bad\"\n",
    "    syn_json = requests.get(url+key_word.lower()+key).json()\n",
    "    syn_list = syn_json[0]['meta']['syns']\n",
    "    if len(syn_list) > 1:\n",
    "        master = sum(syn_list, [])\n",
    "    elif len(syn_list) == 1:\n",
    "        master = syn_list[0]\n",
    "    master.append(key_word)\n",
    "    return master"
   ]
  },
  {
   "cell_type": "markdown",
   "id": "11ecd17e",
   "metadata": {},
   "source": [
    "### Problems with some words\n",
    "\n",
    "consumer discretionary, consumer staples, communication services (DO NOT WORK)\n",
    "\n",
    "    -> they do not exist within the Thesaurus, therefore the JSON returns a list with possible words\n",
    "Definition of Consumer Discretionary:\n",
    "- goods that are non-essential but desirable if their income is sufficient to purchase them\n",
    "\n",
    "Definition of Consumer Staples:\n",
    "- goods that are essential\n",
    "\n",
    "Definition of Communication Services:\n",
    "- elecommunications Services, Cable Services, Video Services, or Information Services\n",
    "\n",
    "-> Solution for now: remove those words from here"
   ]
  },
  {
   "cell_type": "code",
   "execution_count": null,
   "id": "0fbc754b",
   "metadata": {},
   "outputs": [],
   "source": [
    "df = pd.read_csv(\"master_taxonomy.csv\", index_col=0)#, on_bad_lines='skip')\n",
    "df = df.reset_index(drop=True)\n",
    "df.columns"
   ]
  },
  {
   "cell_type": "code",
   "execution_count": null,
   "id": "e4b8967e",
   "metadata": {},
   "outputs": [],
   "source": [
    "df['Abstract'] = df['Abstract'].str.lower()\n",
    "df['Title'] = df['Title'].str.lower()\n",
    "df['Author Keywords'] = df['Author Keywords'].str.lower()\n",
    "df['Index Keywords'] = df['Index Keywords'].str.lower()"
   ]
  },
  {
   "cell_type": "code",
   "execution_count": null,
   "id": "f94f309d",
   "metadata": {},
   "outputs": [],
   "source": [
    "df = df.fillna(\"blank\")"
   ]
  },
  {
   "cell_type": "code",
   "execution_count": null,
   "id": "5facced2",
   "metadata": {},
   "outputs": [],
   "source": [
    "non_alp = [';', ',', '(', ')', '[', ']', '.']\n",
    "for i in non_alp:\n",
    "    for col in ['Title','Abstract', 'Author Keywords', 'Index Keywords']:\n",
    "        df[col] = df[col].map(lambda x: x.replace(i,''))"
   ]
  },
  {
   "cell_type": "code",
   "execution_count": null,
   "id": "e210e399",
   "metadata": {},
   "outputs": [],
   "source": [
    "#df['content_sum'] = df['Abstract'] + df['Title'] + df['Author Keywords'] + df['Index Keywords']\n",
    "#df[\"content_sum\"] = df[\"content_sum\"].str.lower()\n",
    "stop = stopwords.words('english')\n",
    "for i in [df['Abstract'],df['Title'], df['Author Keywords'], df['Index Keywords']]:\n",
    "    i = i.apply(lambda x: \" \".join([word for word in x.split() if word not in (stop)]))"
   ]
  },
  {
   "cell_type": "code",
   "execution_count": null,
   "id": "d1011215",
   "metadata": {},
   "outputs": [],
   "source": [
    "keys = [\"energy\", \"materials\", \"industrial\", \"financial\",  \"utilities\"]\n",
    "no_keys = [ \"consumer discretionary\", \"consumer staples\", \"information technology\", \"communication services\", \"healthcare\", \"real estate\"]"
   ]
  },
  {
   "cell_type": "code",
   "execution_count": null,
   "id": "1f72383d",
   "metadata": {},
   "outputs": [],
   "source": [
    "# Saving into a dictionary all of the syns\n",
    "keys_dict = {}\n",
    "for i in keys:\n",
    "    keys_dict[i] = get_synonyms_api(i)\n",
    " \n",
    "#keys_dict"
   ]
  },
  {
   "cell_type": "code",
   "execution_count": null,
   "id": "c6a4c056",
   "metadata": {},
   "outputs": [],
   "source": [
    "## Creating, by hand, the rest of the synonyms\n",
    "keys_dict[\"consumer discretionary\"] = [\"consumer discretionary\",\"non-essential goods\", \"non essential goods\", \"non-essential products\", \"non essential products\", \"unrestricted goods\", \"unrestricted products\", \"nonobligatory goods\", \"nonobligatory products\"]\n",
    "keys_dict[\"consumer staples\"] = [\"essential goods\", \"essential goods\", \"essential products\", \"essential products\", \"restricted goods\", \"restricted products\", \"obligatory goods\", \"obligatory products\"]\n",
    "keys_dict[\"information technology\"] = [\"IT\", \"information techonology\", \"i.t\", \"communication science\", \"communication sciences\", \"computer science\", \"info tech\", \"cybernetics\"]\n",
    "keys_dict[\"communication services\"] = [\"call service\", \"communication department\",  \"communication facilities\", \"communication service\",\"communications department\",\"communications facilities\", \"communications service\",\"communications services\", \"facilities-based\", \"telecommunications service\",\"media service\",\"reporting services\", \"telecom service\", \"telecom services\", \"telecommunication service\",\"telecommunication services\"]\n",
    "keys_dict[\"healthcare\"] = [\"medical care\",\"healthcare\",\"medical treatment\",\"medical assistance\",\"medical attention\",\"medical aid\",\"health protection\",\"health maintenance\",\"medical attendance\",\"medical help\",\"medical management\",\"medical service\",\"preventive medicine\",\"wellness program\",\"health management\",\"curative care\",\"public health\",\"maintenance of health\",\"health care service\",\"primary care\",\"medical services\",\"care insurance\",\"health insurance\",\"medical coverage\",\"medical insurance\"]\n",
    "keys_dict[\"real estate\"] = [\"building\",\"buildings\",\"housing\",\"immovable\",\"land\",\"motionless\",\"premises\",\"Properties\",\"Property\",\"realtor\"]"
   ]
  },
  {
   "cell_type": "code",
   "execution_count": null,
   "id": "45bc6199",
   "metadata": {},
   "outputs": [],
   "source": [
    "## Creating the dictionary for Stage Classification (Post Hoc / Ante Hoc)\n",
    "stage_dict = {}\n",
    "stage_dict[\"Ante-hoc\"] = [\"fuzzy\",\"treebased\", \"Classification and Regression Tree\", \"CART Conditional Inference Tree\", \"CTree\", \"Decision Tree\", \"Fast and Frugal Trees\", \"FFTs\", \"Fuzzy Hoeffding Decision Tree\", \"FHDT\", \"J48\", \"One-Class Tree\", \"OCTree\", \"Multi Operator Temporal Decision Tree\", \"MTDT\", \"Recursive Partitioning and Regression Trees (RPART)\", \"Big Bang–Big Crunch Interval Type-2 Fuzzy Logic System\", \"BB-BC IT2FLS\"]\n",
    "stage_dict[\"Post-hoc\"] = [\"support vector machines\", 'neural network','model-agnostic','model-specific','ensemble methods','SVM with Linear and Radial Basis Function (RBF) Kernels','ApparentFlow-net', 'Convolutional Neural Network (CNN)','Adaptive Boosting (AdaBoost)']"
   ]
  },
  {
   "cell_type": "code",
   "execution_count": null,
   "id": "09d9eafb",
   "metadata": {},
   "outputs": [],
   "source": [
    "## Classification of Stage\n",
    "for term in stage_dict.keys():\n",
    "    df[term] = 0\n",
    "    for wrd in stage_dict[term]:\n",
    "        for col in [df['Abstract'], df['Title'], df['Author Keywords'], df['Index Keywords']]:\n",
    "            if col is df['Title']:\n",
    "                df[term] += col.str.count(wrd) + 0.0004\n",
    "            elif col is df['Author Keywords']:\n",
    "                #df[key] += 0.00003\n",
    "                df[term] += col.str.count(wrd) + 0.0003\n",
    "            elif col is df['Index Keywords']:\n",
    "                #df[key] += 0.00002\n",
    "                df[term] += col.str.count(wrd)  + 0.0002\n",
    "            else:\n",
    "                #df[key] += 0.00001\n",
    "                df[term] += col.str.count(wrd) + 0.0001\n",
    "df.head(5)"
   ]
  },
  {
   "cell_type": "code",
   "execution_count": null,
   "id": "7d3acc9e",
   "metadata": {},
   "outputs": [],
   "source": [
    "## Classification of Taxonomy\n",
    "for key in keys_dict.keys():\n",
    "    df[key] = 0\n",
    "    for phr in keys_dict[key]:\n",
    "        for col in [df['Abstract'], df['Title'], df['Author Keywords'], df['Index Keywords']]:\n",
    "            if col is df['Title']:\n",
    "                df[key] += col.str.count(phr) + 0.0004\n",
    "            elif col is df['Author Keywords']:\n",
    "                #df[key] += 0.00003\n",
    "                df[key] += col.str.count(phr) + 0.0003\n",
    "            elif col is df['Index Keywords']:\n",
    "                #df[key] += 0.00002\n",
    "                df[key] += col.str.count(phr)  + 0.0002\n",
    "            else:\n",
    "                #df[key] += 0.00001\n",
    "                df[key] += col.str.count(phr) + 0.0001\n",
    "df.head(5)"
   ]
  },
  {
   "cell_type": "code",
   "execution_count": null,
   "id": "d5a75da8",
   "metadata": {},
   "outputs": [],
   "source": [
    "''''\n",
    "for key in keys_dict.keys():\n",
    "    df[key] = 0\n",
    "    for phr in keys_dict[key]:\n",
    "        for col in [df['Abstract'], df['Title'], df['Author Keywords'], df['Index Keywords']]:\n",
    "            if col is df['Title']:\n",
    "                df[key] += 0.00004\n",
    "                df[key] += col.str.count(phr)\n",
    "            elif col is df['Author Keywords']:\n",
    "                df[key] += 0.00003\n",
    "                df[key] += col.str.count(phr) \n",
    "            elif col is df['Index Keywords']:\n",
    "                df[key] += 0.00002\n",
    "                df[key] += col.str.count(phr) \n",
    "            else:\n",
    "                df[key] += 0.00001\n",
    "                df[key] += col.str.count(phr) \n",
    "df\n",
    "'''"
   ]
  },
  {
   "cell_type": "code",
   "execution_count": null,
   "id": "15521cdd",
   "metadata": {},
   "outputs": [],
   "source": [
    "df[df[\"materials\"] > 8]"
   ]
  },
  {
   "cell_type": "code",
   "execution_count": null,
   "id": "c7e3a9b2",
   "metadata": {},
   "outputs": [],
   "source": [
    "sum_dic = {}\n",
    "for i in keys_dict.keys():\n",
    "    sum_dic[i] = df[i].sum()\n",
    " \n",
    "sum_dic"
   ]
  },
  {
   "cell_type": "code",
   "execution_count": null,
   "id": "15526f44",
   "metadata": {},
   "outputs": [],
   "source": [
    "df.columns"
   ]
  },
  {
   "attachments": {},
   "cell_type": "markdown",
   "id": "5b4c7f3f",
   "metadata": {},
   "source": [
    "### Creating the Final Dataframe\n",
    "\n",
    "----\n",
    "Made for cleaner looks and presentability\n",
    "\n",
    "Eliminates the processing columns, and just adds the result of the differented used algorithms"
   ]
  },
  {
   "cell_type": "code",
   "execution_count": null,
   "id": "7c32c3d3",
   "metadata": {},
   "outputs": [],
   "source": [
    "df['Taxonomy'] = df[['energy','materials', 'industrial', 'financial', 'utilities',\n",
    "                    'consumer discretionary', 'consumer staples', 'information technology',\n",
    "                    'communication services', 'healthcare', 'real estate']].idxmax(axis=1)\n",
    "df['Stage_Taxonomy'] = df[['Ante-hoc', 'Post-hoc']].idxmax(axis=1)\n",
    "df.sample(5)"
   ]
  },
  {
   "cell_type": "code",
   "execution_count": null,
   "id": "ea78ca8e",
   "metadata": {},
   "outputs": [],
   "source": [
    "final_df = df[['Authors', 'Title', 'DOI', 'Link', 'Abstract', 'Author Keywords',\n",
    "       'Index Keywords', \"Taxonomy\", \"Stage_Taxonomy\"]]"
   ]
  },
  {
   "cell_type": "code",
   "execution_count": null,
   "id": "b4f940a4",
   "metadata": {},
   "outputs": [],
   "source": [
    "final_df.sample(10)"
   ]
  }
 ],
 "metadata": {
  "kernelspec": {
   "display_name": "base",
   "language": "python",
   "name": "python3"
  },
  "language_info": {
   "codemirror_mode": {
    "name": "ipython",
    "version": 3
   },
   "file_extension": ".py",
   "mimetype": "text/x-python",
   "name": "python",
   "nbconvert_exporter": "python",
   "pygments_lexer": "ipython3",
   "version": "3.8.8"
  },
  "vscode": {
   "interpreter": {
    "hash": "0a30e37873c21626933c3629ab168802ac8ae1ec678442c9f027947c9b171c46"
   }
  }
 },
 "nbformat": 4,
 "nbformat_minor": 5
}
